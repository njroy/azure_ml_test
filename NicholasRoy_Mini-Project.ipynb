{
 "cells": [
  {
   "cell_type": "markdown",
   "id": "clear-method",
   "metadata": {},
   "source": [
    "## First, testing our Azure endpoint"
   ]
  },
  {
   "cell_type": "code",
   "execution_count": 1,
   "id": "known-growing",
   "metadata": {},
   "outputs": [],
   "source": [
    "import requests"
   ]
  },
  {
   "cell_type": "code",
   "execution_count": 2,
   "id": "intended-index",
   "metadata": {},
   "outputs": [],
   "source": [
    "test_data = {\n",
    "    'age': 45.0,\n",
    "    'sex': 1.0,\n",
    "    'chest_pain': 4.0,\n",
    "    'blood_pressure': 115.0,\n",
    "    'serum_cholestoral': 260.0,\n",
    "    'fasting_blood_sugar': 0.0,\n",
    "    'electrocardiographic': 2.0,\n",
    "    'max_heart_rate': 185.0,\n",
    "    'induced_angina': 0.0,\n",
    "    'ST_depression': 0.0,\n",
    "    'slope': 1.0,\n",
    "    'vessels': 0.0,\n",
    "    'thal': 3.0,\n",
    "}"
   ]
  },
  {
   "cell_type": "code",
   "execution_count": 3,
   "id": "agreed-freight",
   "metadata": {},
   "outputs": [],
   "source": [
    "base_url = 'https://mytestmlappnjr.azurewebsites.net'"
   ]
  },
  {
   "cell_type": "code",
   "execution_count": 4,
   "id": "wireless-relationship",
   "metadata": {},
   "outputs": [],
   "source": [
    "r = requests.get(base_url)"
   ]
  },
  {
   "cell_type": "code",
   "execution_count": 5,
   "id": "returning-envelope",
   "metadata": {},
   "outputs": [
    {
     "data": {
      "text/plain": [
       "'App is Healthy'"
      ]
     },
     "execution_count": 5,
     "metadata": {},
     "output_type": "execute_result"
    }
   ],
   "source": [
    "r.text"
   ]
  },
  {
   "cell_type": "code",
   "execution_count": 6,
   "id": "hydraulic-myrtle",
   "metadata": {},
   "outputs": [],
   "source": [
    "neural_url = 'https://mytestmlappnjr.azurewebsites.net/neural'"
   ]
  },
  {
   "cell_type": "code",
   "execution_count": 7,
   "id": "interstate-aging",
   "metadata": {},
   "outputs": [],
   "source": [
    "r = requests.post(neural_url, json = test_data)"
   ]
  },
  {
   "cell_type": "code",
   "execution_count": 8,
   "id": "emerging-supervision",
   "metadata": {},
   "outputs": [
    {
     "data": {
      "text/plain": [
       "0"
      ]
     },
     "execution_count": 8,
     "metadata": {},
     "output_type": "execute_result"
    }
   ],
   "source": [
    "r.json()"
   ]
  },
  {
   "cell_type": "markdown",
   "id": "hydraulic-reserve",
   "metadata": {},
   "source": [
    "## Data for Mini-Project"
   ]
  },
  {
   "cell_type": "code",
   "execution_count": 9,
   "id": "liberal-telling",
   "metadata": {},
   "outputs": [],
   "source": [
    "import pathlib\n",
    "\n",
    "import matplotlib.pyplot as plt\n",
    "import pandas as pd\n",
    "pd.set_option('display.max_columns', None)\n",
    "\n",
    "%config Completer.use_jedi = False"
   ]
  },
  {
   "cell_type": "markdown",
   "id": "seven-respondent",
   "metadata": {},
   "source": [
    "https://www.kaggle.com/adammaus/predicting-churn-for-bank-customers?select=Churn_Modelling.csv"
   ]
  },
  {
   "cell_type": "code",
   "execution_count": 10,
   "id": "naval-johnston",
   "metadata": {},
   "outputs": [],
   "source": [
    "data_path = pathlib.Path('train.csv')\n",
    "data = pd.read_csv(data_path)"
   ]
  },
  {
   "cell_type": "code",
   "execution_count": 11,
   "id": "generic-collar",
   "metadata": {},
   "outputs": [
    {
     "data": {
      "text/html": [
       "<div>\n",
       "<style scoped>\n",
       "    .dataframe tbody tr th:only-of-type {\n",
       "        vertical-align: middle;\n",
       "    }\n",
       "\n",
       "    .dataframe tbody tr th {\n",
       "        vertical-align: top;\n",
       "    }\n",
       "\n",
       "    .dataframe thead th {\n",
       "        text-align: right;\n",
       "    }\n",
       "</style>\n",
       "<table border=\"1\" class=\"dataframe\">\n",
       "  <thead>\n",
       "    <tr style=\"text-align: right;\">\n",
       "      <th></th>\n",
       "      <th>CreditScore</th>\n",
       "      <th>Geography</th>\n",
       "      <th>Gender</th>\n",
       "      <th>Age</th>\n",
       "      <th>Tenure</th>\n",
       "      <th>Balance</th>\n",
       "      <th>NumOfProducts</th>\n",
       "      <th>HasCrCard</th>\n",
       "      <th>IsActiveMember</th>\n",
       "      <th>EstimatedSalary</th>\n",
       "      <th>Exited</th>\n",
       "    </tr>\n",
       "  </thead>\n",
       "  <tbody>\n",
       "    <tr>\n",
       "      <th>0</th>\n",
       "      <td>597</td>\n",
       "      <td>Germany</td>\n",
       "      <td>Female</td>\n",
       "      <td>35</td>\n",
       "      <td>8</td>\n",
       "      <td>131101.04</td>\n",
       "      <td>1</td>\n",
       "      <td>1</td>\n",
       "      <td>1</td>\n",
       "      <td>192852.67</td>\n",
       "      <td>0</td>\n",
       "    </tr>\n",
       "    <tr>\n",
       "      <th>1</th>\n",
       "      <td>523</td>\n",
       "      <td>France</td>\n",
       "      <td>Female</td>\n",
       "      <td>40</td>\n",
       "      <td>2</td>\n",
       "      <td>102967.41</td>\n",
       "      <td>1</td>\n",
       "      <td>1</td>\n",
       "      <td>0</td>\n",
       "      <td>128702.10</td>\n",
       "      <td>1</td>\n",
       "    </tr>\n",
       "    <tr>\n",
       "      <th>2</th>\n",
       "      <td>706</td>\n",
       "      <td>Spain</td>\n",
       "      <td>Female</td>\n",
       "      <td>42</td>\n",
       "      <td>8</td>\n",
       "      <td>95386.82</td>\n",
       "      <td>1</td>\n",
       "      <td>1</td>\n",
       "      <td>1</td>\n",
       "      <td>75732.25</td>\n",
       "      <td>0</td>\n",
       "    </tr>\n",
       "    <tr>\n",
       "      <th>3</th>\n",
       "      <td>788</td>\n",
       "      <td>France</td>\n",
       "      <td>Male</td>\n",
       "      <td>32</td>\n",
       "      <td>4</td>\n",
       "      <td>112079.58</td>\n",
       "      <td>1</td>\n",
       "      <td>0</td>\n",
       "      <td>0</td>\n",
       "      <td>89368.59</td>\n",
       "      <td>0</td>\n",
       "    </tr>\n",
       "    <tr>\n",
       "      <th>4</th>\n",
       "      <td>706</td>\n",
       "      <td>Germany</td>\n",
       "      <td>Male</td>\n",
       "      <td>38</td>\n",
       "      <td>5</td>\n",
       "      <td>163034.82</td>\n",
       "      <td>2</td>\n",
       "      <td>1</td>\n",
       "      <td>1</td>\n",
       "      <td>135662.17</td>\n",
       "      <td>0</td>\n",
       "    </tr>\n",
       "  </tbody>\n",
       "</table>\n",
       "</div>"
      ],
      "text/plain": [
       "   CreditScore Geography  Gender  Age  Tenure    Balance  NumOfProducts  \\\n",
       "0          597   Germany  Female   35       8  131101.04              1   \n",
       "1          523    France  Female   40       2  102967.41              1   \n",
       "2          706     Spain  Female   42       8   95386.82              1   \n",
       "3          788    France    Male   32       4  112079.58              1   \n",
       "4          706   Germany    Male   38       5  163034.82              2   \n",
       "\n",
       "   HasCrCard  IsActiveMember  EstimatedSalary  Exited  \n",
       "0          1               1        192852.67       0  \n",
       "1          1               0        128702.10       1  \n",
       "2          1               1         75732.25       0  \n",
       "3          0               0         89368.59       0  \n",
       "4          1               1        135662.17       0  "
      ]
     },
     "execution_count": 11,
     "metadata": {},
     "output_type": "execute_result"
    }
   ],
   "source": [
    "data.head()"
   ]
  },
  {
   "cell_type": "code",
   "execution_count": 12,
   "id": "minor-disabled",
   "metadata": {},
   "outputs": [
    {
     "data": {
      "text/plain": [
       "CreditScore          int64\n",
       "Geography           object\n",
       "Gender              object\n",
       "Age                  int64\n",
       "Tenure               int64\n",
       "Balance            float64\n",
       "NumOfProducts        int64\n",
       "HasCrCard            int64\n",
       "IsActiveMember       int64\n",
       "EstimatedSalary    float64\n",
       "Exited               int64\n",
       "dtype: object"
      ]
     },
     "execution_count": 12,
     "metadata": {},
     "output_type": "execute_result"
    }
   ],
   "source": [
    "# data types look good\n",
    "data.dtypes"
   ]
  },
  {
   "cell_type": "code",
   "execution_count": 13,
   "id": "colored-husband",
   "metadata": {},
   "outputs": [
    {
     "data": {
      "text/plain": [
       "CreditScore        0\n",
       "Geography          0\n",
       "Gender             0\n",
       "Age                0\n",
       "Tenure             0\n",
       "Balance            0\n",
       "NumOfProducts      0\n",
       "HasCrCard          0\n",
       "IsActiveMember     0\n",
       "EstimatedSalary    0\n",
       "Exited             0\n",
       "dtype: int64"
      ]
     },
     "execution_count": 13,
     "metadata": {},
     "output_type": "execute_result"
    }
   ],
   "source": [
    "# no missing values\n",
    "data.isna().sum()"
   ]
  },
  {
   "cell_type": "code",
   "execution_count": 14,
   "id": "medieval-federation",
   "metadata": {},
   "outputs": [
    {
     "name": "stdout",
     "output_type": "stream",
     "text": [
      "Geography: ['Germany' 'France' 'Spain']\n",
      "Gender: ['Female' 'Male']\n",
      "NumOfProducts: [1 2 3 4]\n",
      "HasCrCard: [1 0]\n",
      "IsActiveMember: [1 0]\n",
      "Exited: [0 1]\n"
     ]
    }
   ],
   "source": [
    "# check what variables to convert\n",
    "for col in data.columns:\n",
    "    if data[col].nunique() < 10:\n",
    "        print(f'{col}: {data[col].unique()}')"
   ]
  },
  {
   "cell_type": "code",
   "execution_count": 15,
   "id": "defined-contractor",
   "metadata": {},
   "outputs": [],
   "source": [
    "# make dummy variables for all cols to consider\n",
    "\n",
    "cols_to_consider = ['Geography','Gender']\n",
    "\n",
    "for col in cols_to_consider:\n",
    "    data = pd.concat([data,pd.get_dummies(data[col])], axis = 1)\n",
    "    data = data.drop(columns= [col])"
   ]
  },
  {
   "cell_type": "code",
   "execution_count": 16,
   "id": "acknowledged-payment",
   "metadata": {},
   "outputs": [
    {
     "data": {
      "text/html": [
       "<div>\n",
       "<style scoped>\n",
       "    .dataframe tbody tr th:only-of-type {\n",
       "        vertical-align: middle;\n",
       "    }\n",
       "\n",
       "    .dataframe tbody tr th {\n",
       "        vertical-align: top;\n",
       "    }\n",
       "\n",
       "    .dataframe thead th {\n",
       "        text-align: right;\n",
       "    }\n",
       "</style>\n",
       "<table border=\"1\" class=\"dataframe\">\n",
       "  <thead>\n",
       "    <tr style=\"text-align: right;\">\n",
       "      <th></th>\n",
       "      <th>CreditScore</th>\n",
       "      <th>Age</th>\n",
       "      <th>Tenure</th>\n",
       "      <th>Balance</th>\n",
       "      <th>NumOfProducts</th>\n",
       "      <th>HasCrCard</th>\n",
       "      <th>IsActiveMember</th>\n",
       "      <th>EstimatedSalary</th>\n",
       "      <th>Exited</th>\n",
       "      <th>France</th>\n",
       "      <th>Germany</th>\n",
       "      <th>Spain</th>\n",
       "      <th>Female</th>\n",
       "      <th>Male</th>\n",
       "    </tr>\n",
       "  </thead>\n",
       "  <tbody>\n",
       "    <tr>\n",
       "      <th>0</th>\n",
       "      <td>597</td>\n",
       "      <td>35</td>\n",
       "      <td>8</td>\n",
       "      <td>131101.04</td>\n",
       "      <td>1</td>\n",
       "      <td>1</td>\n",
       "      <td>1</td>\n",
       "      <td>192852.67</td>\n",
       "      <td>0</td>\n",
       "      <td>0</td>\n",
       "      <td>1</td>\n",
       "      <td>0</td>\n",
       "      <td>1</td>\n",
       "      <td>0</td>\n",
       "    </tr>\n",
       "    <tr>\n",
       "      <th>1</th>\n",
       "      <td>523</td>\n",
       "      <td>40</td>\n",
       "      <td>2</td>\n",
       "      <td>102967.41</td>\n",
       "      <td>1</td>\n",
       "      <td>1</td>\n",
       "      <td>0</td>\n",
       "      <td>128702.10</td>\n",
       "      <td>1</td>\n",
       "      <td>1</td>\n",
       "      <td>0</td>\n",
       "      <td>0</td>\n",
       "      <td>1</td>\n",
       "      <td>0</td>\n",
       "    </tr>\n",
       "    <tr>\n",
       "      <th>2</th>\n",
       "      <td>706</td>\n",
       "      <td>42</td>\n",
       "      <td>8</td>\n",
       "      <td>95386.82</td>\n",
       "      <td>1</td>\n",
       "      <td>1</td>\n",
       "      <td>1</td>\n",
       "      <td>75732.25</td>\n",
       "      <td>0</td>\n",
       "      <td>0</td>\n",
       "      <td>0</td>\n",
       "      <td>1</td>\n",
       "      <td>1</td>\n",
       "      <td>0</td>\n",
       "    </tr>\n",
       "    <tr>\n",
       "      <th>3</th>\n",
       "      <td>788</td>\n",
       "      <td>32</td>\n",
       "      <td>4</td>\n",
       "      <td>112079.58</td>\n",
       "      <td>1</td>\n",
       "      <td>0</td>\n",
       "      <td>0</td>\n",
       "      <td>89368.59</td>\n",
       "      <td>0</td>\n",
       "      <td>1</td>\n",
       "      <td>0</td>\n",
       "      <td>0</td>\n",
       "      <td>0</td>\n",
       "      <td>1</td>\n",
       "    </tr>\n",
       "    <tr>\n",
       "      <th>4</th>\n",
       "      <td>706</td>\n",
       "      <td>38</td>\n",
       "      <td>5</td>\n",
       "      <td>163034.82</td>\n",
       "      <td>2</td>\n",
       "      <td>1</td>\n",
       "      <td>1</td>\n",
       "      <td>135662.17</td>\n",
       "      <td>0</td>\n",
       "      <td>0</td>\n",
       "      <td>1</td>\n",
       "      <td>0</td>\n",
       "      <td>0</td>\n",
       "      <td>1</td>\n",
       "    </tr>\n",
       "  </tbody>\n",
       "</table>\n",
       "</div>"
      ],
      "text/plain": [
       "   CreditScore  Age  Tenure    Balance  NumOfProducts  HasCrCard  \\\n",
       "0          597   35       8  131101.04              1          1   \n",
       "1          523   40       2  102967.41              1          1   \n",
       "2          706   42       8   95386.82              1          1   \n",
       "3          788   32       4  112079.58              1          0   \n",
       "4          706   38       5  163034.82              2          1   \n",
       "\n",
       "   IsActiveMember  EstimatedSalary  Exited  France  Germany  Spain  Female  \\\n",
       "0               1        192852.67       0       0        1      0       1   \n",
       "1               0        128702.10       1       1        0      0       1   \n",
       "2               1         75732.25       0       0        0      1       1   \n",
       "3               0         89368.59       0       1        0      0       0   \n",
       "4               1        135662.17       0       0        1      0       0   \n",
       "\n",
       "   Male  \n",
       "0     0  \n",
       "1     0  \n",
       "2     0  \n",
       "3     1  \n",
       "4     1  "
      ]
     },
     "execution_count": 16,
     "metadata": {},
     "output_type": "execute_result"
    }
   ],
   "source": [
    "data.head()"
   ]
  },
  {
   "cell_type": "code",
   "execution_count": 17,
   "id": "native-exchange",
   "metadata": {},
   "outputs": [
    {
     "data": {
      "text/plain": [
       "{'CreditScore': 597.0,\n",
       " 'Age': 35.0,\n",
       " 'Tenure': 8.0,\n",
       " 'Balance': 131101.04,\n",
       " 'NumOfProducts': 1.0,\n",
       " 'HasCrCard': 1.0,\n",
       " 'IsActiveMember': 1.0,\n",
       " 'EstimatedSalary': 192852.67,\n",
       " 'France': 0.0,\n",
       " 'Germany': 1.0,\n",
       " 'Spain': 0.0,\n",
       " 'Female': 1.0,\n",
       " 'Male': 0.0}"
      ]
     },
     "execution_count": 17,
     "metadata": {},
     "output_type": "execute_result"
    }
   ],
   "source": [
    "target = 'Exited'\n",
    "features = [col for col in data.columns if col!= target]\n",
    "data.loc[0, features].to_dict()"
   ]
  },
  {
   "cell_type": "markdown",
   "id": "featured-encyclopedia",
   "metadata": {},
   "source": [
    "## Start Analysis:"
   ]
  },
  {
   "cell_type": "code",
   "execution_count": 18,
   "id": "beginning-michael",
   "metadata": {},
   "outputs": [
    {
     "data": {
      "text/html": [
       "\n",
       "    <div class=\"bk-root\">\n",
       "        <a href=\"https://bokeh.org\" target=\"_blank\" class=\"bk-logo bk-logo-small bk-logo-notebook\"></a>\n",
       "        <span id=\"1001\">Loading BokehJS ...</span>\n",
       "    </div>"
      ]
     },
     "metadata": {},
     "output_type": "display_data"
    },
    {
     "data": {
      "application/javascript": [
       "\n",
       "(function(root) {\n",
       "  function now() {\n",
       "    return new Date();\n",
       "  }\n",
       "\n",
       "  var force = true;\n",
       "\n",
       "  if (typeof root._bokeh_onload_callbacks === \"undefined\" || force === true) {\n",
       "    root._bokeh_onload_callbacks = [];\n",
       "    root._bokeh_is_loading = undefined;\n",
       "  }\n",
       "\n",
       "  var JS_MIME_TYPE = 'application/javascript';\n",
       "  var HTML_MIME_TYPE = 'text/html';\n",
       "  var EXEC_MIME_TYPE = 'application/vnd.bokehjs_exec.v0+json';\n",
       "  var CLASS_NAME = 'output_bokeh rendered_html';\n",
       "\n",
       "  /**\n",
       "   * Render data to the DOM node\n",
       "   */\n",
       "  function render(props, node) {\n",
       "    var script = document.createElement(\"script\");\n",
       "    node.appendChild(script);\n",
       "  }\n",
       "\n",
       "  /**\n",
       "   * Handle when an output is cleared or removed\n",
       "   */\n",
       "  function handleClearOutput(event, handle) {\n",
       "    var cell = handle.cell;\n",
       "\n",
       "    var id = cell.output_area._bokeh_element_id;\n",
       "    var server_id = cell.output_area._bokeh_server_id;\n",
       "    // Clean up Bokeh references\n",
       "    if (id != null && id in Bokeh.index) {\n",
       "      Bokeh.index[id].model.document.clear();\n",
       "      delete Bokeh.index[id];\n",
       "    }\n",
       "\n",
       "    if (server_id !== undefined) {\n",
       "      // Clean up Bokeh references\n",
       "      var cmd = \"from bokeh.io.state import curstate; print(curstate().uuid_to_server['\" + server_id + \"'].get_sessions()[0].document.roots[0]._id)\";\n",
       "      cell.notebook.kernel.execute(cmd, {\n",
       "        iopub: {\n",
       "          output: function(msg) {\n",
       "            var id = msg.content.text.trim();\n",
       "            if (id in Bokeh.index) {\n",
       "              Bokeh.index[id].model.document.clear();\n",
       "              delete Bokeh.index[id];\n",
       "            }\n",
       "          }\n",
       "        }\n",
       "      });\n",
       "      // Destroy server and session\n",
       "      var cmd = \"import bokeh.io.notebook as ion; ion.destroy_server('\" + server_id + \"')\";\n",
       "      cell.notebook.kernel.execute(cmd);\n",
       "    }\n",
       "  }\n",
       "\n",
       "  /**\n",
       "   * Handle when a new output is added\n",
       "   */\n",
       "  function handleAddOutput(event, handle) {\n",
       "    var output_area = handle.output_area;\n",
       "    var output = handle.output;\n",
       "\n",
       "    // limit handleAddOutput to display_data with EXEC_MIME_TYPE content only\n",
       "    if ((output.output_type != \"display_data\") || (!output.data.hasOwnProperty(EXEC_MIME_TYPE))) {\n",
       "      return\n",
       "    }\n",
       "\n",
       "    var toinsert = output_area.element.find(\".\" + CLASS_NAME.split(' ')[0]);\n",
       "\n",
       "    if (output.metadata[EXEC_MIME_TYPE][\"id\"] !== undefined) {\n",
       "      toinsert[toinsert.length - 1].firstChild.textContent = output.data[JS_MIME_TYPE];\n",
       "      // store reference to embed id on output_area\n",
       "      output_area._bokeh_element_id = output.metadata[EXEC_MIME_TYPE][\"id\"];\n",
       "    }\n",
       "    if (output.metadata[EXEC_MIME_TYPE][\"server_id\"] !== undefined) {\n",
       "      var bk_div = document.createElement(\"div\");\n",
       "      bk_div.innerHTML = output.data[HTML_MIME_TYPE];\n",
       "      var script_attrs = bk_div.children[0].attributes;\n",
       "      for (var i = 0; i < script_attrs.length; i++) {\n",
       "        toinsert[toinsert.length - 1].firstChild.setAttribute(script_attrs[i].name, script_attrs[i].value);\n",
       "        toinsert[toinsert.length - 1].firstChild.textContent = bk_div.children[0].textContent\n",
       "      }\n",
       "      // store reference to server id on output_area\n",
       "      output_area._bokeh_server_id = output.metadata[EXEC_MIME_TYPE][\"server_id\"];\n",
       "    }\n",
       "  }\n",
       "\n",
       "  function register_renderer(events, OutputArea) {\n",
       "\n",
       "    function append_mime(data, metadata, element) {\n",
       "      // create a DOM node to render to\n",
       "      var toinsert = this.create_output_subarea(\n",
       "        metadata,\n",
       "        CLASS_NAME,\n",
       "        EXEC_MIME_TYPE\n",
       "      );\n",
       "      this.keyboard_manager.register_events(toinsert);\n",
       "      // Render to node\n",
       "      var props = {data: data, metadata: metadata[EXEC_MIME_TYPE]};\n",
       "      render(props, toinsert[toinsert.length - 1]);\n",
       "      element.append(toinsert);\n",
       "      return toinsert\n",
       "    }\n",
       "\n",
       "    /* Handle when an output is cleared or removed */\n",
       "    events.on('clear_output.CodeCell', handleClearOutput);\n",
       "    events.on('delete.Cell', handleClearOutput);\n",
       "\n",
       "    /* Handle when a new output is added */\n",
       "    events.on('output_added.OutputArea', handleAddOutput);\n",
       "\n",
       "    /**\n",
       "     * Register the mime type and append_mime function with output_area\n",
       "     */\n",
       "    OutputArea.prototype.register_mime_type(EXEC_MIME_TYPE, append_mime, {\n",
       "      /* Is output safe? */\n",
       "      safe: true,\n",
       "      /* Index of renderer in `output_area.display_order` */\n",
       "      index: 0\n",
       "    });\n",
       "  }\n",
       "\n",
       "  // register the mime type if in Jupyter Notebook environment and previously unregistered\n",
       "  if (root.Jupyter !== undefined) {\n",
       "    var events = require('base/js/events');\n",
       "    var OutputArea = require('notebook/js/outputarea').OutputArea;\n",
       "\n",
       "    if (OutputArea.prototype.mime_types().indexOf(EXEC_MIME_TYPE) == -1) {\n",
       "      register_renderer(events, OutputArea);\n",
       "    }\n",
       "  }\n",
       "\n",
       "  \n",
       "  if (typeof (root._bokeh_timeout) === \"undefined\" || force === true) {\n",
       "    root._bokeh_timeout = Date.now() + 5000;\n",
       "    root._bokeh_failed_load = false;\n",
       "  }\n",
       "\n",
       "  var NB_LOAD_WARNING = {'data': {'text/html':\n",
       "     \"<div style='background-color: #fdd'>\\n\"+\n",
       "     \"<p>\\n\"+\n",
       "     \"BokehJS does not appear to have successfully loaded. If loading BokehJS from CDN, this \\n\"+\n",
       "     \"may be due to a slow or bad network connection. Possible fixes:\\n\"+\n",
       "     \"</p>\\n\"+\n",
       "     \"<ul>\\n\"+\n",
       "     \"<li>re-rerun `output_notebook()` to attempt to load from CDN again, or</li>\\n\"+\n",
       "     \"<li>use INLINE resources instead, as so:</li>\\n\"+\n",
       "     \"</ul>\\n\"+\n",
       "     \"<code>\\n\"+\n",
       "     \"from bokeh.resources import INLINE\\n\"+\n",
       "     \"output_notebook(resources=INLINE)\\n\"+\n",
       "     \"</code>\\n\"+\n",
       "     \"</div>\"}};\n",
       "\n",
       "  function display_loaded() {\n",
       "    var el = document.getElementById(\"1001\");\n",
       "    if (el != null) {\n",
       "      el.textContent = \"BokehJS is loading...\";\n",
       "    }\n",
       "    if (root.Bokeh !== undefined) {\n",
       "      if (el != null) {\n",
       "        el.textContent = \"BokehJS \" + root.Bokeh.version + \" successfully loaded.\";\n",
       "      }\n",
       "    } else if (Date.now() < root._bokeh_timeout) {\n",
       "      setTimeout(display_loaded, 100)\n",
       "    }\n",
       "  }\n",
       "\n",
       "\n",
       "  function run_callbacks() {\n",
       "    try {\n",
       "      root._bokeh_onload_callbacks.forEach(function(callback) {\n",
       "        if (callback != null)\n",
       "          callback();\n",
       "      });\n",
       "    } finally {\n",
       "      delete root._bokeh_onload_callbacks\n",
       "    }\n",
       "    console.debug(\"Bokeh: all callbacks have finished\");\n",
       "  }\n",
       "\n",
       "  function load_libs(css_urls, js_urls, callback) {\n",
       "    if (css_urls == null) css_urls = [];\n",
       "    if (js_urls == null) js_urls = [];\n",
       "\n",
       "    root._bokeh_onload_callbacks.push(callback);\n",
       "    if (root._bokeh_is_loading > 0) {\n",
       "      console.debug(\"Bokeh: BokehJS is being loaded, scheduling callback at\", now());\n",
       "      return null;\n",
       "    }\n",
       "    if (js_urls == null || js_urls.length === 0) {\n",
       "      run_callbacks();\n",
       "      return null;\n",
       "    }\n",
       "    console.debug(\"Bokeh: BokehJS not loaded, scheduling load and callback at\", now());\n",
       "    root._bokeh_is_loading = css_urls.length + js_urls.length;\n",
       "\n",
       "    function on_load() {\n",
       "      root._bokeh_is_loading--;\n",
       "      if (root._bokeh_is_loading === 0) {\n",
       "        console.debug(\"Bokeh: all BokehJS libraries/stylesheets loaded\");\n",
       "        run_callbacks()\n",
       "      }\n",
       "    }\n",
       "\n",
       "    function on_error() {\n",
       "      console.error(\"failed to load \" + url);\n",
       "    }\n",
       "\n",
       "    for (var i = 0; i < css_urls.length; i++) {\n",
       "      var url = css_urls[i];\n",
       "      const element = document.createElement(\"link\");\n",
       "      element.onload = on_load;\n",
       "      element.onerror = on_error;\n",
       "      element.rel = \"stylesheet\";\n",
       "      element.type = \"text/css\";\n",
       "      element.href = url;\n",
       "      console.debug(\"Bokeh: injecting link tag for BokehJS stylesheet: \", url);\n",
       "      document.body.appendChild(element);\n",
       "    }\n",
       "\n",
       "    const hashes = {\"https://cdn.bokeh.org/bokeh/release/bokeh-2.2.3.min.js\": \"T2yuo9Oe71Cz/I4X9Ac5+gpEa5a8PpJCDlqKYO0CfAuEszu1JrXLl8YugMqYe3sM\", \"https://cdn.bokeh.org/bokeh/release/bokeh-widgets-2.2.3.min.js\": \"98GDGJ0kOMCUMUePhksaQ/GYgB3+NH9h996V88sh3aOiUNX3N+fLXAtry6xctSZ6\", \"https://cdn.bokeh.org/bokeh/release/bokeh-tables-2.2.3.min.js\": \"89bArO+nlbP3sgakeHjCo1JYxYR5wufVgA3IbUvDY+K7w4zyxJqssu7wVnfeKCq8\"};\n",
       "\n",
       "    for (var i = 0; i < js_urls.length; i++) {\n",
       "      var url = js_urls[i];\n",
       "      var element = document.createElement('script');\n",
       "      element.onload = on_load;\n",
       "      element.onerror = on_error;\n",
       "      element.async = false;\n",
       "      element.src = url;\n",
       "      if (url in hashes) {\n",
       "        element.crossOrigin = \"anonymous\";\n",
       "        element.integrity = \"sha384-\" + hashes[url];\n",
       "      }\n",
       "      console.debug(\"Bokeh: injecting script tag for BokehJS library: \", url);\n",
       "      document.head.appendChild(element);\n",
       "    }\n",
       "  };\n",
       "\n",
       "  function inject_raw_css(css) {\n",
       "    const element = document.createElement(\"style\");\n",
       "    element.appendChild(document.createTextNode(css));\n",
       "    document.body.appendChild(element);\n",
       "  }\n",
       "\n",
       "  \n",
       "  var js_urls = [\"https://cdn.bokeh.org/bokeh/release/bokeh-2.2.3.min.js\", \"https://cdn.bokeh.org/bokeh/release/bokeh-widgets-2.2.3.min.js\", \"https://cdn.bokeh.org/bokeh/release/bokeh-tables-2.2.3.min.js\"];\n",
       "  var css_urls = [];\n",
       "  \n",
       "\n",
       "  var inline_js = [\n",
       "    function(Bokeh) {\n",
       "      Bokeh.set_log_level(\"info\");\n",
       "    },\n",
       "    function(Bokeh) {\n",
       "    \n",
       "    \n",
       "    }\n",
       "  ];\n",
       "\n",
       "  function run_inline_js() {\n",
       "    \n",
       "    if (root.Bokeh !== undefined || force === true) {\n",
       "      \n",
       "    for (var i = 0; i < inline_js.length; i++) {\n",
       "      inline_js[i].call(root, root.Bokeh);\n",
       "    }\n",
       "    if (force === true) {\n",
       "        display_loaded();\n",
       "      }} else if (Date.now() < root._bokeh_timeout) {\n",
       "      setTimeout(run_inline_js, 100);\n",
       "    } else if (!root._bokeh_failed_load) {\n",
       "      console.log(\"Bokeh: BokehJS failed to load within specified timeout.\");\n",
       "      root._bokeh_failed_load = true;\n",
       "    } else if (force !== true) {\n",
       "      var cell = $(document.getElementById(\"1001\")).parents('.cell').data().cell;\n",
       "      cell.output_area.append_execute_result(NB_LOAD_WARNING)\n",
       "    }\n",
       "\n",
       "  }\n",
       "\n",
       "  if (root._bokeh_is_loading === 0) {\n",
       "    console.debug(\"Bokeh: BokehJS loaded, going straight to plotting\");\n",
       "    run_inline_js();\n",
       "  } else {\n",
       "    load_libs(css_urls, js_urls, function() {\n",
       "      console.debug(\"Bokeh: BokehJS plotting callback run at\", now());\n",
       "      run_inline_js();\n",
       "    });\n",
       "  }\n",
       "}(window));"
      ],
      "application/vnd.bokehjs_load.v0+json": "\n(function(root) {\n  function now() {\n    return new Date();\n  }\n\n  var force = true;\n\n  if (typeof root._bokeh_onload_callbacks === \"undefined\" || force === true) {\n    root._bokeh_onload_callbacks = [];\n    root._bokeh_is_loading = undefined;\n  }\n\n  \n\n  \n  if (typeof (root._bokeh_timeout) === \"undefined\" || force === true) {\n    root._bokeh_timeout = Date.now() + 5000;\n    root._bokeh_failed_load = false;\n  }\n\n  var NB_LOAD_WARNING = {'data': {'text/html':\n     \"<div style='background-color: #fdd'>\\n\"+\n     \"<p>\\n\"+\n     \"BokehJS does not appear to have successfully loaded. If loading BokehJS from CDN, this \\n\"+\n     \"may be due to a slow or bad network connection. Possible fixes:\\n\"+\n     \"</p>\\n\"+\n     \"<ul>\\n\"+\n     \"<li>re-rerun `output_notebook()` to attempt to load from CDN again, or</li>\\n\"+\n     \"<li>use INLINE resources instead, as so:</li>\\n\"+\n     \"</ul>\\n\"+\n     \"<code>\\n\"+\n     \"from bokeh.resources import INLINE\\n\"+\n     \"output_notebook(resources=INLINE)\\n\"+\n     \"</code>\\n\"+\n     \"</div>\"}};\n\n  function display_loaded() {\n    var el = document.getElementById(\"1001\");\n    if (el != null) {\n      el.textContent = \"BokehJS is loading...\";\n    }\n    if (root.Bokeh !== undefined) {\n      if (el != null) {\n        el.textContent = \"BokehJS \" + root.Bokeh.version + \" successfully loaded.\";\n      }\n    } else if (Date.now() < root._bokeh_timeout) {\n      setTimeout(display_loaded, 100)\n    }\n  }\n\n\n  function run_callbacks() {\n    try {\n      root._bokeh_onload_callbacks.forEach(function(callback) {\n        if (callback != null)\n          callback();\n      });\n    } finally {\n      delete root._bokeh_onload_callbacks\n    }\n    console.debug(\"Bokeh: all callbacks have finished\");\n  }\n\n  function load_libs(css_urls, js_urls, callback) {\n    if (css_urls == null) css_urls = [];\n    if (js_urls == null) js_urls = [];\n\n    root._bokeh_onload_callbacks.push(callback);\n    if (root._bokeh_is_loading > 0) {\n      console.debug(\"Bokeh: BokehJS is being loaded, scheduling callback at\", now());\n      return null;\n    }\n    if (js_urls == null || js_urls.length === 0) {\n      run_callbacks();\n      return null;\n    }\n    console.debug(\"Bokeh: BokehJS not loaded, scheduling load and callback at\", now());\n    root._bokeh_is_loading = css_urls.length + js_urls.length;\n\n    function on_load() {\n      root._bokeh_is_loading--;\n      if (root._bokeh_is_loading === 0) {\n        console.debug(\"Bokeh: all BokehJS libraries/stylesheets loaded\");\n        run_callbacks()\n      }\n    }\n\n    function on_error() {\n      console.error(\"failed to load \" + url);\n    }\n\n    for (var i = 0; i < css_urls.length; i++) {\n      var url = css_urls[i];\n      const element = document.createElement(\"link\");\n      element.onload = on_load;\n      element.onerror = on_error;\n      element.rel = \"stylesheet\";\n      element.type = \"text/css\";\n      element.href = url;\n      console.debug(\"Bokeh: injecting link tag for BokehJS stylesheet: \", url);\n      document.body.appendChild(element);\n    }\n\n    const hashes = {\"https://cdn.bokeh.org/bokeh/release/bokeh-2.2.3.min.js\": \"T2yuo9Oe71Cz/I4X9Ac5+gpEa5a8PpJCDlqKYO0CfAuEszu1JrXLl8YugMqYe3sM\", \"https://cdn.bokeh.org/bokeh/release/bokeh-widgets-2.2.3.min.js\": \"98GDGJ0kOMCUMUePhksaQ/GYgB3+NH9h996V88sh3aOiUNX3N+fLXAtry6xctSZ6\", \"https://cdn.bokeh.org/bokeh/release/bokeh-tables-2.2.3.min.js\": \"89bArO+nlbP3sgakeHjCo1JYxYR5wufVgA3IbUvDY+K7w4zyxJqssu7wVnfeKCq8\"};\n\n    for (var i = 0; i < js_urls.length; i++) {\n      var url = js_urls[i];\n      var element = document.createElement('script');\n      element.onload = on_load;\n      element.onerror = on_error;\n      element.async = false;\n      element.src = url;\n      if (url in hashes) {\n        element.crossOrigin = \"anonymous\";\n        element.integrity = \"sha384-\" + hashes[url];\n      }\n      console.debug(\"Bokeh: injecting script tag for BokehJS library: \", url);\n      document.head.appendChild(element);\n    }\n  };\n\n  function inject_raw_css(css) {\n    const element = document.createElement(\"style\");\n    element.appendChild(document.createTextNode(css));\n    document.body.appendChild(element);\n  }\n\n  \n  var js_urls = [\"https://cdn.bokeh.org/bokeh/release/bokeh-2.2.3.min.js\", \"https://cdn.bokeh.org/bokeh/release/bokeh-widgets-2.2.3.min.js\", \"https://cdn.bokeh.org/bokeh/release/bokeh-tables-2.2.3.min.js\"];\n  var css_urls = [];\n  \n\n  var inline_js = [\n    function(Bokeh) {\n      Bokeh.set_log_level(\"info\");\n    },\n    function(Bokeh) {\n    \n    \n    }\n  ];\n\n  function run_inline_js() {\n    \n    if (root.Bokeh !== undefined || force === true) {\n      \n    for (var i = 0; i < inline_js.length; i++) {\n      inline_js[i].call(root, root.Bokeh);\n    }\n    if (force === true) {\n        display_loaded();\n      }} else if (Date.now() < root._bokeh_timeout) {\n      setTimeout(run_inline_js, 100);\n    } else if (!root._bokeh_failed_load) {\n      console.log(\"Bokeh: BokehJS failed to load within specified timeout.\");\n      root._bokeh_failed_load = true;\n    } else if (force !== true) {\n      var cell = $(document.getElementById(\"1001\")).parents('.cell').data().cell;\n      cell.output_area.append_execute_result(NB_LOAD_WARNING)\n    }\n\n  }\n\n  if (root._bokeh_is_loading === 0) {\n    console.debug(\"Bokeh: BokehJS loaded, going straight to plotting\");\n    run_inline_js();\n  } else {\n    load_libs(css_urls, js_urls, function() {\n      console.debug(\"Bokeh: BokehJS plotting callback run at\", now());\n      run_inline_js();\n    });\n  }\n}(window));"
     },
     "metadata": {},
     "output_type": "display_data"
    }
   ],
   "source": [
    "import matplotlib.pyplot as plt\n",
    "import numpy as np\n",
    "import pandas as pd\n",
    "pd.options.display.float_format = '{:,.4f}'.format\n",
    "import seaborn as sns\n",
    "sns.set_style('whitegrid')\n",
    "\n",
    "from bokeh.layouts import gridplot, column\n",
    "from bokeh.models import (BasicTicker, ColorBar, ColumnDataSource, \n",
    "                          HoverTool, LabelSet, LinearColorMapper, NumeralTickFormatter)\n",
    "from bokeh.palettes import brewer, RdBu, Reds\n",
    "from bokeh.plotting import figure, show, output_notebook\n",
    "from bokeh.transform import transform\n",
    "\n",
    "%config Completer.use_jedi = False\n",
    "output_notebook()"
   ]
  },
  {
   "cell_type": "code",
   "execution_count": 19,
   "id": "pending-budget",
   "metadata": {},
   "outputs": [
    {
     "data": {
      "text/html": [
       "\n",
       "\n",
       "\n",
       "\n",
       "\n",
       "\n",
       "  <div class=\"bk-root\" id=\"e1db7d4d-513f-482c-adfd-149c1f685df2\" data-root-id=\"1004\"></div>\n"
      ]
     },
     "metadata": {},
     "output_type": "display_data"
    },
    {
     "data": {
      "application/javascript": [
       "(function(root) {\n",
       "  function embed_document(root) {\n",
       "    \n",
       "  var docs_json = {\"c21385b9-1515-4882-97d1-d1557652e19c\":{\"roots\":{\"references\":[{\"attributes\":{\"below\":[{\"id\":\"1015\"}],\"center\":[{\"id\":\"1017\"},{\"id\":\"1020\"}],\"left\":[{\"id\":\"1018\"}],\"plot_height\":400,\"plot_width\":550,\"renderers\":[{\"id\":\"1027\"}],\"right\":[{\"id\":\"1030\"}],\"title\":{\"id\":\"1005\"},\"toolbar\":{\"id\":\"1022\"},\"x_range\":{\"id\":\"1007\"},\"x_scale\":{\"id\":\"1011\"},\"y_range\":{\"id\":\"1009\"},\"y_scale\":{\"id\":\"1013\"}},\"id\":\"1004\",\"subtype\":\"Figure\",\"type\":\"Plot\"},{\"attributes\":{\"data\":{\"Correlation\":{\"__ndarray__\":\"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\",\"dtype\":\"float64\",\"order\":\"little\",\"shape\":[196]},\"Variable 1\":[\"CreditScore\",\"CreditScore\",\"CreditScore\",\"CreditScore\",\"CreditScore\",\"CreditScore\",\"CreditScore\",\"CreditScore\",\"CreditScore\",\"CreditScore\",\"CreditScore\",\"CreditScore\",\"CreditScore\",\"CreditScore\",\"Age\",\"Age\",\"Age\",\"Age\",\"Age\",\"Age\",\"Age\",\"Age\",\"Age\",\"Age\",\"Age\",\"Age\",\"Age\",\"Age\",\"Tenure\",\"Tenure\",\"Tenure\",\"Tenure\",\"Tenure\",\"Tenure\",\"Tenure\",\"Tenure\",\"Tenure\",\"Tenure\",\"Tenure\",\"Tenure\",\"Tenure\",\"Tenure\",\"Balance\",\"Balance\",\"Balance\",\"Balance\",\"Balance\",\"Balance\",\"Balance\",\"Balance\",\"Balance\",\"Balance\",\"Balance\",\"Balance\",\"Balance\",\"Balance\",\"NumOfProducts\",\"NumOfProducts\",\"NumOfProducts\",\"NumOfProducts\",\"NumOfProducts\",\"NumOfProducts\",\"NumOfProducts\",\"NumOfProducts\",\"NumOfProducts\",\"NumOfProducts\",\"NumOfProducts\",\"NumOfProducts\",\"NumOfProducts\",\"NumOfProducts\",\"HasCrCard\",\"HasCrCard\",\"HasCrCard\",\"HasCrCard\",\"HasCrCard\",\"HasCrCard\",\"HasCrCard\",\"HasCrCard\",\"HasCrCard\",\"HasCrCard\",\"HasCrCard\",\"HasCrCard\",\"HasCrCard\",\"HasCrCard\",\"IsActiveMember\",\"IsActiveMember\",\"IsActiveMember\",\"IsActiveMember\",\"IsActiveMember\",\"IsActiveMember\",\"IsActiveMember\",\"IsActiveMember\",\"IsActiveMember\",\"IsActiveMember\",\"IsActiveMember\",\"IsActiveMember\",\"IsActiveMember\",\"IsActiveMember\",\"EstimatedSalary\",\"EstimatedSalary\",\"EstimatedSalary\",\"EstimatedSalary\",\"EstimatedSalary\",\"EstimatedSalary\",\"EstimatedSalary\",\"EstimatedSalary\",\"EstimatedSalary\",\"EstimatedSalary\",\"EstimatedSalary\",\"EstimatedSalary\",\"EstimatedSalary\",\"EstimatedSalary\",\"Exited\",\"Exited\",\"Exited\",\"Exited\",\"Exited\",\"Exited\",\"Exited\",\"Exited\",\"Exited\",\"Exited\",\"Exited\",\"Exited\",\"Exited\",\"Exited\",\"France\",\"France\",\"France\",\"France\",\"France\",\"France\",\"France\",\"France\",\"France\",\"France\",\"France\",\"France\",\"France\",\"France\",\"Germany\",\"Germany\",\"Germany\",\"Germany\",\"Germany\",\"Germany\",\"Germany\",\"Germany\",\"Germany\",\"Germany\",\"Germany\",\"Germany\",\"Germany\",\"Germany\",\"Spain\",\"Spain\",\"Spain\",\"Spain\",\"Spain\",\"Spain\",\"Spain\",\"Spain\",\"Spain\",\"Spain\",\"Spain\",\"Spain\",\"Spain\",\"Spain\",\"Female\",\"Female\",\"Female\",\"Female\",\"Female\",\"Female\",\"Female\",\"Female\",\"Female\",\"Female\",\"Female\",\"Female\",\"Female\",\"Female\",\"Male\",\"Male\",\"Male\",\"Male\",\"Male\",\"Male\",\"Male\",\"Male\",\"Male\",\"Male\",\"Male\",\"Male\",\"Male\",\"Male\"],\"Variable 2\":[\"CreditScore\",\"Age\",\"Tenure\",\"Balance\",\"NumOfProducts\",\"HasCrCard\",\"IsActiveMember\",\"EstimatedSalary\",\"Exited\",\"France\",\"Germany\",\"Spain\",\"Female\",\"Male\",\"CreditScore\",\"Age\",\"Tenure\",\"Balance\",\"NumOfProducts\",\"HasCrCard\",\"IsActiveMember\",\"EstimatedSalary\",\"Exited\",\"France\",\"Germany\",\"Spain\",\"Female\",\"Male\",\"CreditScore\",\"Age\",\"Tenure\",\"Balance\",\"NumOfProducts\",\"HasCrCard\",\"IsActiveMember\",\"EstimatedSalary\",\"Exited\",\"France\",\"Germany\",\"Spain\",\"Female\",\"Male\",\"CreditScore\",\"Age\",\"Tenure\",\"Balance\",\"NumOfProducts\",\"HasCrCard\",\"IsActiveMember\",\"EstimatedSalary\",\"Exited\",\"France\",\"Germany\",\"Spain\",\"Female\",\"Male\",\"CreditScore\",\"Age\",\"Tenure\",\"Balance\",\"NumOfProducts\",\"HasCrCard\",\"IsActiveMember\",\"EstimatedSalary\",\"Exited\",\"France\",\"Germany\",\"Spain\",\"Female\",\"Male\",\"CreditScore\",\"Age\",\"Tenure\",\"Balance\",\"NumOfProducts\",\"HasCrCard\",\"IsActiveMember\",\"EstimatedSalary\",\"Exited\",\"France\",\"Germany\",\"Spain\",\"Female\",\"Male\",\"CreditScore\",\"Age\",\"Tenure\",\"Balance\",\"NumOfProducts\",\"HasCrCard\",\"IsActiveMember\",\"EstimatedSalary\",\"Exited\",\"France\",\"Germany\",\"Spain\",\"Female\",\"Male\",\"CreditScore\",\"Age\",\"Tenure\",\"Balance\",\"NumOfProducts\",\"HasCrCard\",\"IsActiveMember\",\"EstimatedSalary\",\"Exited\",\"France\",\"Germany\",\"Spain\",\"Female\",\"Male\",\"CreditScore\",\"Age\",\"Tenure\",\"Balance\",\"NumOfProducts\",\"HasCrCard\",\"IsActiveMember\",\"EstimatedSalary\",\"Exited\",\"France\",\"Germany\",\"Spain\",\"Female\",\"Male\",\"CreditScore\",\"Age\",\"Tenure\",\"Balance\",\"NumOfProducts\",\"HasCrCard\",\"IsActiveMember\",\"EstimatedSalary\",\"Exited\",\"France\",\"Germany\",\"Spain\",\"Female\",\"Male\",\"CreditScore\",\"Age\",\"Tenure\",\"Balance\",\"NumOfProducts\",\"HasCrCard\",\"IsActiveMember\",\"EstimatedSalary\",\"Exited\",\"France\",\"Germany\",\"Spain\",\"Female\",\"Male\",\"CreditScore\",\"Age\",\"Tenure\",\"Balance\",\"NumOfProducts\",\"HasCrCard\",\"IsActiveMember\",\"EstimatedSalary\",\"Exited\",\"France\",\"Germany\",\"Spain\",\"Female\",\"Male\",\"CreditScore\",\"Age\",\"Tenure\",\"Balance\",\"NumOfProducts\",\"HasCrCard\",\"IsActiveMember\",\"EstimatedSalary\",\"Exited\",\"France\",\"Germany\",\"Spain\",\"Female\",\"Male\",\"CreditScore\",\"Age\",\"Tenure\",\"Balance\",\"NumOfProducts\",\"HasCrCard\",\"IsActiveMember\",\"EstimatedSalary\",\"Exited\",\"France\",\"Germany\",\"Spain\",\"Female\",\"Male\"],\"index\":[0,1,2,3,4,5,6,7,8,9,10,11,12,13,14,15,16,17,18,19,20,21,22,23,24,25,26,27,28,29,30,31,32,33,34,35,36,37,38,39,40,41,42,43,44,45,46,47,48,49,50,51,52,53,54,55,56,57,58,59,60,61,62,63,64,65,66,67,68,69,70,71,72,73,74,75,76,77,78,79,80,81,82,83,84,85,86,87,88,89,90,91,92,93,94,95,96,97,98,99,100,101,102,103,104,105,106,107,108,109,110,111,112,113,114,115,116,117,118,119,120,121,122,123,124,125,126,127,128,129,130,131,132,133,134,135,136,137,138,139,140,141,142,143,144,145,146,147,148,149,150,151,152,153,154,155,156,157,158,159,160,161,162,163,164,165,166,167,168,169,170,171,172,173,174,175,176,177,178,179,180,181,182,183,184,185,186,187,188,189,190,191,192,193,194,195]},\"selected\":{\"id\":\"1040\"},\"selection_policy\":{\"id\":\"1041\"}},\"id\":\"1002\",\"type\":\"ColumnDataSource\"},{\"attributes\":{\"factors\":[\"Age\",\"Balance\",\"CreditScore\",\"EstimatedSalary\",\"Exited\",\"Female\",\"France\",\"Germany\",\"HasCrCard\",\"IsActiveMember\",\"Male\",\"NumOfProducts\",\"Spain\",\"Tenure\"]},\"id\":\"1007\",\"type\":\"FactorRange\"},{\"attributes\":{},\"id\":\"1040\",\"type\":\"Selection\"},{\"attributes\":{},\"id\":\"1013\",\"type\":\"CategoricalScale\"},{\"attributes\":{},\"id\":\"1041\",\"type\":\"UnionRenderers\"},{\"attributes\":{\"active_drag\":\"auto\",\"active_inspect\":\"auto\",\"active_multi\":null,\"active_scroll\":\"auto\",\"active_tap\":\"auto\",\"tools\":[{\"id\":\"1021\"}]},\"id\":\"1022\",\"type\":\"Toolbar\"},{\"attributes\":{\"desired_num_ticks\":10},\"id\":\"1029\",\"type\":\"BasicTicker\"},{\"attributes\":{\"axis\":{\"id\":\"1015\"},\"ticker\":null},\"id\":\"1017\",\"type\":\"Grid\"},{\"attributes\":{},\"id\":\"1019\",\"type\":\"CategoricalTicker\"},{\"attributes\":{},\"id\":\"1037\",\"type\":\"CategoricalTickFormatter\"},{\"attributes\":{\"text\":\"Correlation Matrix\"},\"id\":\"1005\",\"type\":\"Title\"},{\"attributes\":{\"color_mapper\":{\"id\":\"1003\"},\"formatter\":{\"id\":\"1032\"},\"label_standoff\":4,\"location\":[0,0],\"major_label_text_align\":\"left\",\"major_label_text_font_size\":\"12px\",\"ticker\":{\"id\":\"1029\"}},\"id\":\"1030\",\"type\":\"ColorBar\"},{\"attributes\":{},\"id\":\"1039\",\"type\":\"CategoricalTickFormatter\"},{\"attributes\":{},\"id\":\"1011\",\"type\":\"CategoricalScale\"},{\"attributes\":{\"callback\":null,\"tooltips\":[[\"Variable 1\",\"@{Variable 1}\"],[\"Variable 2\",\"@{Variable 2}\"],[\"Correlation\",\"@Correlation{0.2f%}\"]]},\"id\":\"1021\",\"type\":\"HoverTool\"},{\"attributes\":{\"fill_alpha\":{\"value\":0.1},\"fill_color\":{\"field\":\"Correlation\",\"transform\":{\"id\":\"1003\"}},\"height\":{\"units\":\"data\",\"value\":1},\"line_alpha\":{\"value\":0.1},\"line_color\":{\"value\":\"grey\"},\"width\":{\"units\":\"data\",\"value\":1},\"x\":{\"field\":\"Variable 2\"},\"y\":{\"field\":\"Variable 1\"}},\"id\":\"1026\",\"type\":\"Rect\"},{\"attributes\":{},\"id\":\"1016\",\"type\":\"CategoricalTicker\"},{\"attributes\":{\"high\":1.0,\"low\":-1,\"palette\":[\"#053061\",\"#2166ac\",\"#4393c3\",\"#92c5de\",\"#d1e5f0\",\"#fddbc7\",\"#f4a582\",\"#d6604d\",\"#b2182b\",\"#67001f\"]},\"id\":\"1003\",\"type\":\"LinearColorMapper\"},{\"attributes\":{\"source\":{\"id\":\"1002\"}},\"id\":\"1028\",\"type\":\"CDSView\"},{\"attributes\":{\"data_source\":{\"id\":\"1002\"},\"glyph\":{\"id\":\"1025\"},\"hover_glyph\":null,\"muted_glyph\":null,\"nonselection_glyph\":{\"id\":\"1026\"},\"selection_glyph\":null,\"view\":{\"id\":\"1028\"}},\"id\":\"1027\",\"type\":\"GlyphRenderer\"},{\"attributes\":{\"axis_line_color\":null,\"formatter\":{\"id\":\"1037\"},\"major_label_standoff\":0,\"major_label_text_font_size\":\"12px\",\"major_tick_line_color\":null,\"ticker\":{\"id\":\"1019\"}},\"id\":\"1018\",\"type\":\"CategoricalAxis\"},{\"attributes\":{\"format\":\"0.0%\"},\"id\":\"1032\",\"type\":\"NumeralTickFormatter\"},{\"attributes\":{\"axis_line_color\":null,\"formatter\":{\"id\":\"1039\"},\"major_label_orientation\":1.0,\"major_label_standoff\":0,\"major_label_text_font_size\":\"12px\",\"major_tick_line_color\":null,\"ticker\":{\"id\":\"1016\"}},\"id\":\"1015\",\"type\":\"CategoricalAxis\"},{\"attributes\":{\"factors\":[\"Tenure\",\"Spain\",\"NumOfProducts\",\"Male\",\"IsActiveMember\",\"HasCrCard\",\"Germany\",\"France\",\"Female\",\"Exited\",\"EstimatedSalary\",\"CreditScore\",\"Balance\",\"Age\"]},\"id\":\"1009\",\"type\":\"FactorRange\"},{\"attributes\":{\"fill_color\":{\"field\":\"Correlation\",\"transform\":{\"id\":\"1003\"}},\"height\":{\"units\":\"data\",\"value\":1},\"line_color\":{\"value\":\"grey\"},\"width\":{\"units\":\"data\",\"value\":1},\"x\":{\"field\":\"Variable 2\"},\"y\":{\"field\":\"Variable 1\"}},\"id\":\"1025\",\"type\":\"Rect\"},{\"attributes\":{\"axis\":{\"id\":\"1018\"},\"dimension\":1,\"ticker\":null},\"id\":\"1020\",\"type\":\"Grid\"}],\"root_ids\":[\"1004\"]},\"title\":\"Bokeh Application\",\"version\":\"2.2.3\"}};\n",
       "  var render_items = [{\"docid\":\"c21385b9-1515-4882-97d1-d1557652e19c\",\"root_ids\":[\"1004\"],\"roots\":{\"1004\":\"e1db7d4d-513f-482c-adfd-149c1f685df2\"}}];\n",
       "  root.Bokeh.embed.embed_items_notebook(docs_json, render_items);\n",
       "\n",
       "  }\n",
       "  if (root.Bokeh !== undefined) {\n",
       "    embed_document(root);\n",
       "  } else {\n",
       "    var attempts = 0;\n",
       "    var timer = setInterval(function(root) {\n",
       "      if (root.Bokeh !== undefined) {\n",
       "        clearInterval(timer);\n",
       "        embed_document(root);\n",
       "      } else {\n",
       "        attempts++;\n",
       "        if (attempts > 100) {\n",
       "          clearInterval(timer);\n",
       "          console.log(\"Bokeh: ERROR: Unable to run BokehJS code because BokehJS library is missing\");\n",
       "        }\n",
       "      }\n",
       "    }, 10, root)\n",
       "  }\n",
       "})(window);"
      ],
      "application/vnd.bokehjs_exec.v0+json": ""
     },
     "metadata": {
      "application/vnd.bokehjs_exec.v0+json": {
       "id": "1004"
      }
     },
     "output_type": "display_data"
    }
   ],
   "source": [
    "#check correlations\n",
    "\n",
    "correlation_matrix = data.corr()\n",
    "correlation_matrix = correlation_matrix.unstack().reset_index()\n",
    "correlation_matrix.columns = ['Variable 1', 'Variable 2', 'Correlation']\n",
    "variables = sorted(list(correlation_matrix['Variable 1'].unique()))\n",
    "\n",
    "source = ColumnDataSource(correlation_matrix)\n",
    "\n",
    "palette = brewer['RdBu'][10]\n",
    "color_mapper = LinearColorMapper(\n",
    "    palette = palette, \n",
    "    low = -1, \n",
    "    high = 1.0,\n",
    ")\n",
    "\n",
    "p = figure(\n",
    "    plot_width = 550, \n",
    "    plot_height = 400, \n",
    "    title = f'Correlation Matrix',\n",
    "    x_range = variables, \n",
    "    y_range = list(reversed(variables)),\n",
    "    tools = 'hover', \n",
    "    x_axis_location=\"below\",\n",
    ")\n",
    "\n",
    "p.rect(\n",
    "    x = 'Variable 2', \n",
    "    y = 'Variable 1', \n",
    "    width = 1, \n",
    "    height = 1, \n",
    "    source = source,\n",
    "    line_color = 'grey', \n",
    "    fill_color = transform('Correlation', color_mapper),\n",
    ")\n",
    "\n",
    "color_bar = ColorBar(\n",
    "    color_mapper = color_mapper, \n",
    "    location = (0, 0),\n",
    "    ticker = BasicTicker(desired_num_ticks = len(palette)),\n",
    ")\n",
    "color_bar.formatter = NumeralTickFormatter(format=\"0.0%\")\n",
    "\n",
    "p.add_layout(color_bar, 'right')\n",
    "\n",
    "hover = p.hover.tooltips = [\n",
    "    (\"Variable 1\", \"@{Variable 1}\"),\n",
    "    (\"Variable 2\", \"@{Variable 2}\"),\n",
    "    (\"Correlation\", \"@Correlation{0.2f%}\"),\n",
    "]\n",
    "\n",
    "p.axis.axis_line_color = None\n",
    "p.axis.major_tick_line_color = None\n",
    "p.axis.major_label_text_font_size = \"12px\"\n",
    "p.axis.major_label_standoff = 0\n",
    "p.xaxis.major_label_orientation = 1.0\n",
    "\n",
    "color_bar.label_standoff = 4\n",
    "color_bar.major_label_text_align = 'left'\n",
    "color_bar.major_label_text_font_size = '12px'\n",
    "\n",
    "show(p)"
   ]
  },
  {
   "cell_type": "code",
   "execution_count": 20,
   "id": "bacterial-sacramento",
   "metadata": {},
   "outputs": [
    {
     "data": {
      "text/html": [
       "<div>\n",
       "<style scoped>\n",
       "    .dataframe tbody tr th:only-of-type {\n",
       "        vertical-align: middle;\n",
       "    }\n",
       "\n",
       "    .dataframe tbody tr th {\n",
       "        vertical-align: top;\n",
       "    }\n",
       "\n",
       "    .dataframe thead th {\n",
       "        text-align: right;\n",
       "    }\n",
       "</style>\n",
       "<table border=\"1\" class=\"dataframe\">\n",
       "  <thead>\n",
       "    <tr style=\"text-align: right;\">\n",
       "      <th></th>\n",
       "      <th>count</th>\n",
       "      <th>mean</th>\n",
       "      <th>std</th>\n",
       "      <th>min</th>\n",
       "      <th>50%</th>\n",
       "      <th>max</th>\n",
       "    </tr>\n",
       "  </thead>\n",
       "  <tbody>\n",
       "    <tr>\n",
       "      <th>CreditScore</th>\n",
       "      <td>9,970.0000</td>\n",
       "      <td>650.5796</td>\n",
       "      <td>96.6353</td>\n",
       "      <td>350.0000</td>\n",
       "      <td>652.0000</td>\n",
       "      <td>850.0000</td>\n",
       "    </tr>\n",
       "    <tr>\n",
       "      <th>Age</th>\n",
       "      <td>9,970.0000</td>\n",
       "      <td>38.9257</td>\n",
       "      <td>10.4905</td>\n",
       "      <td>18.0000</td>\n",
       "      <td>37.0000</td>\n",
       "      <td>92.0000</td>\n",
       "    </tr>\n",
       "    <tr>\n",
       "      <th>Tenure</th>\n",
       "      <td>9,970.0000</td>\n",
       "      <td>5.0135</td>\n",
       "      <td>2.8918</td>\n",
       "      <td>0.0000</td>\n",
       "      <td>5.0000</td>\n",
       "      <td>10.0000</td>\n",
       "    </tr>\n",
       "    <tr>\n",
       "      <th>Balance</th>\n",
       "      <td>9,970.0000</td>\n",
       "      <td>76,485.4634</td>\n",
       "      <td>62,400.2750</td>\n",
       "      <td>0.0000</td>\n",
       "      <td>97,221.5200</td>\n",
       "      <td>250,898.0900</td>\n",
       "    </tr>\n",
       "    <tr>\n",
       "      <th>NumOfProducts</th>\n",
       "      <td>9,970.0000</td>\n",
       "      <td>1.5300</td>\n",
       "      <td>0.5817</td>\n",
       "      <td>1.0000</td>\n",
       "      <td>1.0000</td>\n",
       "      <td>4.0000</td>\n",
       "    </tr>\n",
       "    <tr>\n",
       "      <th>HasCrCard</th>\n",
       "      <td>9,970.0000</td>\n",
       "      <td>0.7054</td>\n",
       "      <td>0.4559</td>\n",
       "      <td>0.0000</td>\n",
       "      <td>1.0000</td>\n",
       "      <td>1.0000</td>\n",
       "    </tr>\n",
       "    <tr>\n",
       "      <th>IsActiveMember</th>\n",
       "      <td>9,970.0000</td>\n",
       "      <td>0.5150</td>\n",
       "      <td>0.4998</td>\n",
       "      <td>0.0000</td>\n",
       "      <td>1.0000</td>\n",
       "      <td>1.0000</td>\n",
       "    </tr>\n",
       "    <tr>\n",
       "      <th>EstimatedSalary</th>\n",
       "      <td>9,970.0000</td>\n",
       "      <td>100,069.8759</td>\n",
       "      <td>57,510.5570</td>\n",
       "      <td>11.5800</td>\n",
       "      <td>100,168.2400</td>\n",
       "      <td>199,992.4800</td>\n",
       "    </tr>\n",
       "    <tr>\n",
       "      <th>Exited</th>\n",
       "      <td>9,970.0000</td>\n",
       "      <td>0.2038</td>\n",
       "      <td>0.4029</td>\n",
       "      <td>0.0000</td>\n",
       "      <td>0.0000</td>\n",
       "      <td>1.0000</td>\n",
       "    </tr>\n",
       "    <tr>\n",
       "      <th>France</th>\n",
       "      <td>9,970.0000</td>\n",
       "      <td>0.5016</td>\n",
       "      <td>0.5000</td>\n",
       "      <td>0.0000</td>\n",
       "      <td>1.0000</td>\n",
       "      <td>1.0000</td>\n",
       "    </tr>\n",
       "    <tr>\n",
       "      <th>Germany</th>\n",
       "      <td>9,970.0000</td>\n",
       "      <td>0.2510</td>\n",
       "      <td>0.4336</td>\n",
       "      <td>0.0000</td>\n",
       "      <td>0.0000</td>\n",
       "      <td>1.0000</td>\n",
       "    </tr>\n",
       "    <tr>\n",
       "      <th>Spain</th>\n",
       "      <td>9,970.0000</td>\n",
       "      <td>0.2474</td>\n",
       "      <td>0.4315</td>\n",
       "      <td>0.0000</td>\n",
       "      <td>0.0000</td>\n",
       "      <td>1.0000</td>\n",
       "    </tr>\n",
       "    <tr>\n",
       "      <th>Female</th>\n",
       "      <td>9,970.0000</td>\n",
       "      <td>0.4541</td>\n",
       "      <td>0.4979</td>\n",
       "      <td>0.0000</td>\n",
       "      <td>0.0000</td>\n",
       "      <td>1.0000</td>\n",
       "    </tr>\n",
       "    <tr>\n",
       "      <th>Male</th>\n",
       "      <td>9,970.0000</td>\n",
       "      <td>0.5459</td>\n",
       "      <td>0.4979</td>\n",
       "      <td>0.0000</td>\n",
       "      <td>1.0000</td>\n",
       "      <td>1.0000</td>\n",
       "    </tr>\n",
       "  </tbody>\n",
       "</table>\n",
       "</div>"
      ],
      "text/plain": [
       "                     count         mean         std      min          50%  \\\n",
       "CreditScore     9,970.0000     650.5796     96.6353 350.0000     652.0000   \n",
       "Age             9,970.0000      38.9257     10.4905  18.0000      37.0000   \n",
       "Tenure          9,970.0000       5.0135      2.8918   0.0000       5.0000   \n",
       "Balance         9,970.0000  76,485.4634 62,400.2750   0.0000  97,221.5200   \n",
       "NumOfProducts   9,970.0000       1.5300      0.5817   1.0000       1.0000   \n",
       "HasCrCard       9,970.0000       0.7054      0.4559   0.0000       1.0000   \n",
       "IsActiveMember  9,970.0000       0.5150      0.4998   0.0000       1.0000   \n",
       "EstimatedSalary 9,970.0000 100,069.8759 57,510.5570  11.5800 100,168.2400   \n",
       "Exited          9,970.0000       0.2038      0.4029   0.0000       0.0000   \n",
       "France          9,970.0000       0.5016      0.5000   0.0000       1.0000   \n",
       "Germany         9,970.0000       0.2510      0.4336   0.0000       0.0000   \n",
       "Spain           9,970.0000       0.2474      0.4315   0.0000       0.0000   \n",
       "Female          9,970.0000       0.4541      0.4979   0.0000       0.0000   \n",
       "Male            9,970.0000       0.5459      0.4979   0.0000       1.0000   \n",
       "\n",
       "                         max  \n",
       "CreditScore         850.0000  \n",
       "Age                  92.0000  \n",
       "Tenure               10.0000  \n",
       "Balance         250,898.0900  \n",
       "NumOfProducts         4.0000  \n",
       "HasCrCard             1.0000  \n",
       "IsActiveMember        1.0000  \n",
       "EstimatedSalary 199,992.4800  \n",
       "Exited                1.0000  \n",
       "France                1.0000  \n",
       "Germany               1.0000  \n",
       "Spain                 1.0000  \n",
       "Female                1.0000  \n",
       "Male                  1.0000  "
      ]
     },
     "execution_count": 20,
     "metadata": {},
     "output_type": "execute_result"
    }
   ],
   "source": [
    "# check statistics\n",
    "\n",
    "data.describe(percentiles = [0.5]).transpose()"
   ]
  },
  {
   "cell_type": "code",
   "execution_count": 21,
   "id": "developing-polish",
   "metadata": {},
   "outputs": [],
   "source": [
    "# scale the data\n",
    "\n",
    "from sklearn import preprocessing\n",
    "\n",
    "scaler = preprocessing.StandardScaler()\n",
    "scaled_data = scaler.fit(data[features])\n",
    "scaled_data = scaler.fit_transform(data[features])\n",
    "scaled_data = pd.DataFrame(scaled_data, columns = features)\n",
    "scaled_data[target] = data[target]"
   ]
  },
  {
   "cell_type": "code",
   "execution_count": 22,
   "id": "outer-fence",
   "metadata": {},
   "outputs": [
    {
     "data": {
      "text/html": [
       "<div>\n",
       "<style scoped>\n",
       "    .dataframe tbody tr th:only-of-type {\n",
       "        vertical-align: middle;\n",
       "    }\n",
       "\n",
       "    .dataframe tbody tr th {\n",
       "        vertical-align: top;\n",
       "    }\n",
       "\n",
       "    .dataframe thead th {\n",
       "        text-align: right;\n",
       "    }\n",
       "</style>\n",
       "<table border=\"1\" class=\"dataframe\">\n",
       "  <thead>\n",
       "    <tr style=\"text-align: right;\">\n",
       "      <th></th>\n",
       "      <th>count</th>\n",
       "      <th>mean</th>\n",
       "      <th>std</th>\n",
       "      <th>min</th>\n",
       "      <th>50%</th>\n",
       "      <th>max</th>\n",
       "    </tr>\n",
       "  </thead>\n",
       "  <tbody>\n",
       "    <tr>\n",
       "      <th>CreditScore</th>\n",
       "      <td>9,970.0000</td>\n",
       "      <td>0.0000</td>\n",
       "      <td>1.0001</td>\n",
       "      <td>-3.1106</td>\n",
       "      <td>0.0147</td>\n",
       "      <td>2.0637</td>\n",
       "    </tr>\n",
       "    <tr>\n",
       "      <th>Age</th>\n",
       "      <td>9,970.0000</td>\n",
       "      <td>0.0000</td>\n",
       "      <td>1.0001</td>\n",
       "      <td>-1.9948</td>\n",
       "      <td>-0.1836</td>\n",
       "      <td>5.0595</td>\n",
       "    </tr>\n",
       "    <tr>\n",
       "      <th>Tenure</th>\n",
       "      <td>9,970.0000</td>\n",
       "      <td>-0.0000</td>\n",
       "      <td>1.0001</td>\n",
       "      <td>-1.7338</td>\n",
       "      <td>-0.0047</td>\n",
       "      <td>1.7245</td>\n",
       "    </tr>\n",
       "    <tr>\n",
       "      <th>Balance</th>\n",
       "      <td>9,970.0000</td>\n",
       "      <td>0.0000</td>\n",
       "      <td>1.0001</td>\n",
       "      <td>-1.2258</td>\n",
       "      <td>0.3323</td>\n",
       "      <td>2.7952</td>\n",
       "    </tr>\n",
       "    <tr>\n",
       "      <th>NumOfProducts</th>\n",
       "      <td>9,970.0000</td>\n",
       "      <td>-0.0000</td>\n",
       "      <td>1.0001</td>\n",
       "      <td>-0.9111</td>\n",
       "      <td>-0.9111</td>\n",
       "      <td>4.2462</td>\n",
       "    </tr>\n",
       "    <tr>\n",
       "      <th>HasCrCard</th>\n",
       "      <td>9,970.0000</td>\n",
       "      <td>-0.0000</td>\n",
       "      <td>1.0001</td>\n",
       "      <td>-1.5475</td>\n",
       "      <td>0.6462</td>\n",
       "      <td>0.6462</td>\n",
       "    </tr>\n",
       "    <tr>\n",
       "      <th>IsActiveMember</th>\n",
       "      <td>9,970.0000</td>\n",
       "      <td>0.0000</td>\n",
       "      <td>1.0001</td>\n",
       "      <td>-1.0306</td>\n",
       "      <td>0.9703</td>\n",
       "      <td>0.9703</td>\n",
       "    </tr>\n",
       "    <tr>\n",
       "      <th>EstimatedSalary</th>\n",
       "      <td>9,970.0000</td>\n",
       "      <td>-0.0000</td>\n",
       "      <td>1.0001</td>\n",
       "      <td>-1.7399</td>\n",
       "      <td>0.0017</td>\n",
       "      <td>1.7376</td>\n",
       "    </tr>\n",
       "    <tr>\n",
       "      <th>France</th>\n",
       "      <td>9,970.0000</td>\n",
       "      <td>0.0000</td>\n",
       "      <td>1.0001</td>\n",
       "      <td>-1.0032</td>\n",
       "      <td>0.9968</td>\n",
       "      <td>0.9968</td>\n",
       "    </tr>\n",
       "    <tr>\n",
       "      <th>Germany</th>\n",
       "      <td>9,970.0000</td>\n",
       "      <td>-0.0000</td>\n",
       "      <td>1.0001</td>\n",
       "      <td>-0.5788</td>\n",
       "      <td>-0.5788</td>\n",
       "      <td>1.7277</td>\n",
       "    </tr>\n",
       "    <tr>\n",
       "      <th>Spain</th>\n",
       "      <td>9,970.0000</td>\n",
       "      <td>0.0000</td>\n",
       "      <td>1.0001</td>\n",
       "      <td>-0.5734</td>\n",
       "      <td>-0.5734</td>\n",
       "      <td>1.7439</td>\n",
       "    </tr>\n",
       "    <tr>\n",
       "      <th>Female</th>\n",
       "      <td>9,970.0000</td>\n",
       "      <td>0.0000</td>\n",
       "      <td>1.0001</td>\n",
       "      <td>-0.9120</td>\n",
       "      <td>-0.9120</td>\n",
       "      <td>1.0965</td>\n",
       "    </tr>\n",
       "    <tr>\n",
       "      <th>Male</th>\n",
       "      <td>9,970.0000</td>\n",
       "      <td>-0.0000</td>\n",
       "      <td>1.0001</td>\n",
       "      <td>-1.0965</td>\n",
       "      <td>0.9120</td>\n",
       "      <td>0.9120</td>\n",
       "    </tr>\n",
       "    <tr>\n",
       "      <th>Exited</th>\n",
       "      <td>9,970.0000</td>\n",
       "      <td>0.2038</td>\n",
       "      <td>0.4029</td>\n",
       "      <td>0.0000</td>\n",
       "      <td>0.0000</td>\n",
       "      <td>1.0000</td>\n",
       "    </tr>\n",
       "  </tbody>\n",
       "</table>\n",
       "</div>"
      ],
      "text/plain": [
       "                     count    mean    std     min     50%    max\n",
       "CreditScore     9,970.0000  0.0000 1.0001 -3.1106  0.0147 2.0637\n",
       "Age             9,970.0000  0.0000 1.0001 -1.9948 -0.1836 5.0595\n",
       "Tenure          9,970.0000 -0.0000 1.0001 -1.7338 -0.0047 1.7245\n",
       "Balance         9,970.0000  0.0000 1.0001 -1.2258  0.3323 2.7952\n",
       "NumOfProducts   9,970.0000 -0.0000 1.0001 -0.9111 -0.9111 4.2462\n",
       "HasCrCard       9,970.0000 -0.0000 1.0001 -1.5475  0.6462 0.6462\n",
       "IsActiveMember  9,970.0000  0.0000 1.0001 -1.0306  0.9703 0.9703\n",
       "EstimatedSalary 9,970.0000 -0.0000 1.0001 -1.7399  0.0017 1.7376\n",
       "France          9,970.0000  0.0000 1.0001 -1.0032  0.9968 0.9968\n",
       "Germany         9,970.0000 -0.0000 1.0001 -0.5788 -0.5788 1.7277\n",
       "Spain           9,970.0000  0.0000 1.0001 -0.5734 -0.5734 1.7439\n",
       "Female          9,970.0000  0.0000 1.0001 -0.9120 -0.9120 1.0965\n",
       "Male            9,970.0000 -0.0000 1.0001 -1.0965  0.9120 0.9120\n",
       "Exited          9,970.0000  0.2038 0.4029  0.0000  0.0000 1.0000"
      ]
     },
     "execution_count": 22,
     "metadata": {},
     "output_type": "execute_result"
    }
   ],
   "source": [
    "# look at scaled data\n",
    "\n",
    "scaled_data.describe(percentiles = [0.5]).transpose()"
   ]
  },
  {
   "cell_type": "code",
   "execution_count": 23,
   "id": "sweet-uruguay",
   "metadata": {},
   "outputs": [
    {
     "data": {
      "text/plain": [
       "0   0.7962\n",
       "1   0.2038\n",
       "Name: Exited, dtype: float64"
      ]
     },
     "execution_count": 23,
     "metadata": {},
     "output_type": "execute_result"
    }
   ],
   "source": [
    "# check distribution of target variable\n",
    "\n",
    "pd.value_counts(scaled_data[target])/pd.value_counts(scaled_data[target]).sum()"
   ]
  },
  {
   "cell_type": "code",
   "execution_count": 24,
   "id": "instant-powell",
   "metadata": {},
   "outputs": [],
   "source": [
    "# representative split\n",
    "\n",
    "from sklearn.model_selection import train_test_split\n",
    "\n",
    "for i in range(1000):\n",
    "    train, test = train_test_split(scaled_data, stratify = scaled_data[target], random_state = i)\n",
    "    temp = pd.value_counts(train[target])/pd.value_counts(train[target]).sum()\n",
    "    if temp[0] < temp[1]:\n",
    "        print(i)"
   ]
  },
  {
   "cell_type": "code",
   "execution_count": 25,
   "id": "comfortable-journalism",
   "metadata": {},
   "outputs": [
    {
     "data": {
      "text/plain": [
       "0   0.7962\n",
       "1   0.2038\n",
       "Name: Exited, dtype: float64"
      ]
     },
     "execution_count": 25,
     "metadata": {},
     "output_type": "execute_result"
    }
   ],
   "source": [
    "# check to make sure\n",
    "\n",
    "train, test = train_test_split(scaled_data, stratify = scaled_data[target], random_state = 809)\n",
    "pd.value_counts(train[target])/pd.value_counts(train[target]).sum()"
   ]
  },
  {
   "cell_type": "code",
   "execution_count": 26,
   "id": "relative-darwin",
   "metadata": {},
   "outputs": [],
   "source": [
    "# create test/train objects\n",
    "\n",
    "train, test = train_test_split(scaled_data, stratify = scaled_data[target], random_state = 809)\n",
    "x_train, y_train = train[features], train[target]\n",
    "x_test, y_test = test[features], test[target]"
   ]
  },
  {
   "cell_type": "code",
   "execution_count": 27,
   "id": "boolean-adolescent",
   "metadata": {},
   "outputs": [],
   "source": [
    "from sklearn.linear_model import LogisticRegression"
   ]
  },
  {
   "cell_type": "markdown",
   "id": "consolidated-state",
   "metadata": {},
   "source": [
    "## Logistic Regression"
   ]
  },
  {
   "cell_type": "code",
   "execution_count": 28,
   "id": "actual-nature",
   "metadata": {},
   "outputs": [],
   "source": [
    "# clf = LogisticRegression(random_state=0, solver = 'newton-cg')\n",
    "\n",
    "# clf = clf.fit(x_train, y_train)\n",
    "\n",
    "# clf.score(x_test, y_test)"
   ]
  },
  {
   "cell_type": "code",
   "execution_count": 29,
   "id": "stock-constraint",
   "metadata": {},
   "outputs": [],
   "source": [
    "def plot_confusion_matrix(y_true, y_predicted):\n",
    "    \n",
    "    from sklearn import metrics\n",
    "    \n",
    "    accuracy = np.round(100*(y_true == y_predicted).astype(int).sum()/len(y_predicted), 2)\n",
    "    \n",
    "    confusion = pd.DataFrame(metrics.confusion_matrix(y_true, y_predicted))\n",
    "    confusion.index.name = \"True\"\n",
    "    confusion.columns.name = \"Predicted\"\n",
    "    confusion = confusion.stack().rename(\"value\").reset_index()\n",
    "    confusion['True'] = confusion['True'].astype(str)\n",
    "    confusion['Predicted'] = confusion['Predicted'].astype(str)\n",
    "\n",
    "    source = ColumnDataSource(confusion)\n",
    "\n",
    "    values = sorted(list(confusion['True'].unique()))\n",
    "\n",
    "    palette = brewer['RdBu'][10]\n",
    "    color_mapper = LinearColorMapper(\n",
    "        palette = palette, \n",
    "    )\n",
    "\n",
    "    p = figure(\n",
    "        plot_width = 300, \n",
    "        plot_height = 300, \n",
    "        title = f'Confusion Matrix: Overall accuracy = {accuracy}%',\n",
    "        x_range = ['0', '1'], \n",
    "        y_range = ['0', '1'],\n",
    "        x_axis_label = 'Predicted',\n",
    "        y_axis_label = 'True',\n",
    "        tools = 'hover', \n",
    "        x_axis_location=\"below\",\n",
    "    )\n",
    "\n",
    "    p.rect(\n",
    "        x = 'Predicted', \n",
    "        y = 'True', \n",
    "        width = 1, \n",
    "        height = 1, \n",
    "        source = source,\n",
    "        line_color = 'grey', \n",
    "        fill_color = transform('value', color_mapper),\n",
    "    )\n",
    "    \n",
    "    hover = p.hover.tooltips = [\n",
    "        (\"True\", \"@{True}\"),\n",
    "        (\"Predicted\", \"@{Predicted}\"),\n",
    "        (\"Count\", \"@value\"),\n",
    "    ]\n",
    "\n",
    "    p.axis.axis_line_color = None\n",
    "    p.axis.major_tick_line_color = None\n",
    "    p.axis.major_label_text_font_size = \"14px\"\n",
    "    p.axis.major_label_standoff = 0\n",
    "    p.xaxis.major_label_orientation = 1.0\n",
    "    \n",
    "    labels = LabelSet(x='Predicted', y='True', text='value',\n",
    "                      render_mode='canvas', text_color = 'white',\n",
    "                      x_offset = 50, y_offset = 50, source=source,)\n",
    "\n",
    "    p.add_layout(labels)\n",
    "    \n",
    "    show(p)"
   ]
  },
  {
   "cell_type": "code",
   "execution_count": 30,
   "id": "apart-private",
   "metadata": {},
   "outputs": [],
   "source": [
    "# predictions = clf.predict(x_test)\n",
    "# plot_confusion_matrix(y_test, predictions)"
   ]
  },
  {
   "cell_type": "markdown",
   "id": "insured-cargo",
   "metadata": {},
   "source": [
    "## Random Forest"
   ]
  },
  {
   "cell_type": "code",
   "execution_count": 31,
   "id": "theoretical-resort",
   "metadata": {},
   "outputs": [],
   "source": [
    "from sklearn.ensemble import RandomForestClassifier"
   ]
  },
  {
   "cell_type": "code",
   "execution_count": 32,
   "id": "hungarian-vertex",
   "metadata": {},
   "outputs": [],
   "source": [
    "# clf = RandomForestClassifier(random_state = 0)\n",
    "\n",
    "# clf = clf.fit(x_train, y_train)\n",
    "\n",
    "# clf.score(x_test, y_test)"
   ]
  },
  {
   "cell_type": "code",
   "execution_count": 33,
   "id": "fossil-criterion",
   "metadata": {},
   "outputs": [],
   "source": [
    "# y_hat = clf.predict(x_test)\n",
    "# plot_confusion_matrix(y_test, y_hat)"
   ]
  },
  {
   "cell_type": "markdown",
   "id": "external-travel",
   "metadata": {},
   "source": [
    "## Gradient Boosted Tree"
   ]
  },
  {
   "cell_type": "code",
   "execution_count": 34,
   "id": "received-richmond",
   "metadata": {},
   "outputs": [],
   "source": [
    "from sklearn.ensemble import GradientBoostingClassifier"
   ]
  },
  {
   "cell_type": "code",
   "execution_count": 35,
   "id": "front-halifax",
   "metadata": {},
   "outputs": [],
   "source": [
    "# clf = GradientBoostingClassifier(random_state = 0)\n",
    "\n",
    "# clf = clf.fit(x_train, y_train)\n",
    "\n",
    "# clf.score(x_test, y_test)"
   ]
  },
  {
   "cell_type": "code",
   "execution_count": 36,
   "id": "prostate-farmer",
   "metadata": {},
   "outputs": [],
   "source": [
    "# predictions = clf.predict(x_test)\n",
    "# plot_confusion_matrix(y_test, predictions)"
   ]
  },
  {
   "cell_type": "markdown",
   "id": "virtual-inventory",
   "metadata": {},
   "source": [
    "## AdaBoost"
   ]
  },
  {
   "cell_type": "code",
   "execution_count": 37,
   "id": "married-belarus",
   "metadata": {},
   "outputs": [],
   "source": [
    "from sklearn.ensemble import AdaBoostClassifier\n",
    "\n",
    "# clf = AdaBoostClassifier(random_state = 0)\n",
    "\n",
    "# clf = clf.fit(x_train, y_train)\n",
    "\n",
    "# clf.score(x_test, y_test)"
   ]
  },
  {
   "cell_type": "code",
   "execution_count": 38,
   "id": "suited-royal",
   "metadata": {},
   "outputs": [],
   "source": [
    "# predictions = clf.predict(x_test)\n",
    "# plot_confusion_matrix(y_test, predictions)"
   ]
  },
  {
   "cell_type": "markdown",
   "id": "metallic-singing",
   "metadata": {},
   "source": [
    "## Hyperparameter Tuning"
   ]
  },
  {
   "cell_type": "code",
   "execution_count": 39,
   "id": "contrary-texture",
   "metadata": {},
   "outputs": [],
   "source": [
    "from sklearn.model_selection import GridSearchCV"
   ]
  },
  {
   "cell_type": "code",
   "execution_count": 40,
   "id": "union-support",
   "metadata": {},
   "outputs": [],
   "source": [
    "# params = {\n",
    "#     'n_estimators': [5, 10, 50, 100],\n",
    "#     'learning_rate': [0.001, 0.01, 0.1, 1, 10],\n",
    "# }"
   ]
  },
  {
   "cell_type": "code",
   "execution_count": 41,
   "id": "qualified-treasurer",
   "metadata": {},
   "outputs": [],
   "source": [
    "# adaboost = AdaBoostClassifier(random_state = 0)\n",
    "\n",
    "# clf = GridSearchCV(adaboost, params, error_score=0)\n",
    "# search = clf.fit(x_train, y_train)\n",
    "# best_params = search.best_params_\n",
    "# best_params"
   ]
  },
  {
   "cell_type": "code",
   "execution_count": 42,
   "id": "exposed-ribbon",
   "metadata": {},
   "outputs": [],
   "source": [
    "# clf = AdaBoostClassifier(random_state = 0, **best_params)\n",
    "# clf = clf.fit(x_train, y_train)\n",
    "# clf.score(x_test, y_test)"
   ]
  },
  {
   "cell_type": "code",
   "execution_count": 43,
   "id": "respected-round",
   "metadata": {},
   "outputs": [],
   "source": [
    "# predictions = clf.predict(x_test)\n",
    "# plot_confusion_matrix(y_test, predictions)"
   ]
  },
  {
   "cell_type": "code",
   "execution_count": 44,
   "id": "furnished-reference",
   "metadata": {},
   "outputs": [],
   "source": [
    "import statsmodels.formula.api as smf\n",
    "\n",
    "# summary = pd.DataFrame(search.cv_results_)\n",
    "# param_columns = [col for col in summary.columns if col.startswith('param') and (col != 'params')]\n",
    "\n",
    "# metric_col = 'mean_test_score'\n",
    "# summary = summary[param_columns + [metric_col]]\n",
    "# summary = summary.dropna()\n",
    "# for col in summary.columns:\n",
    "#     summary[col] = pd.to_numeric(summary[col])\n",
    "\n",
    "# formula = f\"{metric_col} ~ {'*'.join(param_columns)}\"\n",
    "\n",
    "# model = smf.ols(\n",
    "#     formula = formula, \n",
    "#     data = summary)\n",
    "\n",
    "# fit_model = model.fit()\n",
    "\n",
    "# fit_model.summary()"
   ]
  },
  {
   "cell_type": "code",
   "execution_count": 45,
   "id": "advised-branch",
   "metadata": {},
   "outputs": [],
   "source": [
    "# run_cell = True\n",
    "# int_step = 2\n",
    "# float_delta = 0.1\n",
    "# float_steps = 4\n",
    "\n",
    "# if run_cell:\n",
    "#     params = {\n",
    "#         'n_estimators': [5, 10, 50, 100],\n",
    "#         'learning_rate': [0.001, 0.01, 0.1, 1, 10],\n",
    "#     }\n",
    "\n",
    "#     adaboost = AdaBoostClassifier(random_state = 0)\n",
    "\n",
    "#     print('Starting course search')\n",
    "#     clf = GridSearchCV(adaboost, params)\n",
    "#     search = clf.fit(x_train, y_train)\n",
    "#     print(f'Best params from course search: {search.best_params_}')\n",
    "\n",
    "#     fine_params = {}\n",
    "#     for param in params:\n",
    "#         if isinstance(search.best_params_[param], int):\n",
    "#             min_val = search.best_params_[param] - int_step\n",
    "#             max_val = search.best_params_[param] + int_step + 1\n",
    "#             fine_params[param] = [i for i in range(min_val, max_val)]\n",
    "#         else:\n",
    "#             min_val = search.best_params_[param]*(1 - float_delta)\n",
    "#             max_val = search.best_params_[param]*(1 + float_delta)\n",
    "#             fine_params[param] = np.linspace(min_val, max_val, float_steps)\n",
    "\n",
    "#     print('Starting fine search')\n",
    "#     clf = GridSearchCV(adaboost, fine_params, error_score=0)\n",
    "#     search = clf.fit(x_train, y_train)\n",
    "#     print(f'Best params from fine search: {search.best_params_}')\n",
    "\n",
    "#     clf = AdaBoostClassifier(random_state = 0, **search.best_params_)\n",
    "#     clf = clf.fit(x_train, y_train)\n",
    "#     clf.score(x_test, y_test)\n",
    "\n",
    "#     predictions = clf.predict(x_test)\n",
    "#     plot_confusion_matrix(y_test, predictions)"
   ]
  },
  {
   "cell_type": "markdown",
   "id": "documentary-manchester",
   "metadata": {},
   "source": [
    "## Neural Networks"
   ]
  },
  {
   "cell_type": "code",
   "execution_count": 46,
   "id": "demanding-tampa",
   "metadata": {},
   "outputs": [],
   "source": [
    "import tensorflow as tf\n",
    "\n",
    "from keras.models import Sequential\n",
    "from keras.layers import Dense, Dropout, Input"
   ]
  },
  {
   "cell_type": "code",
   "execution_count": 47,
   "id": "unique-editor",
   "metadata": {},
   "outputs": [],
   "source": [
    "def plot_history(tf_history):\n",
    "\n",
    "    width = 12\n",
    "    height = width*0.4\n",
    "    fig, ax = plt.subplots(1, 2, figsize = (width, height))\n",
    "\n",
    "    index = [i for i, _ in enumerate(history.history['loss'], 1)]\n",
    "\n",
    "    ax[0].plot(index, tf_history.history['loss'], label = 'Loss')\n",
    "    ax[0].plot(index, tf_history.history['val_loss'], label = 'Validation Loss')\n",
    "    ax[0].legend(loc = 0)\n",
    "    ax[0].set_xlabel('Epoch')\n",
    "    ax[0].set_ylabel('Value')\n",
    "\n",
    "    ax[1].plot(index, tf_history.history['accuracy'], label = 'Accuracy')\n",
    "    ax[1].plot(index, tf_history.history['val_accuracy'], label = 'Validation Accuracy')\n",
    "    ax[1].legend(loc = 0)\n",
    "    ax[1].set_xlabel('Epoch')\n",
    "    ax[1].set_ylabel('Value')\n",
    "    plt.show()"
   ]
  },
  {
   "cell_type": "code",
   "execution_count": 48,
   "id": "tight-center",
   "metadata": {},
   "outputs": [],
   "source": [
    "#epoch\n",
    "\n",
    "# tf.random.set_seed(0)\n",
    "\n",
    "# model = Sequential()\n",
    "# model.add(Dense(1, activation='sigmoid'))\n",
    "# model.compile(loss = 'binary_crossentropy', \n",
    "#               optimizer = 'adam', \n",
    "#               metrics = ['accuracy'])\n",
    "\n",
    "# X, y = train[features].values, train[target].values\n",
    "# history = model.fit(X, y, \n",
    "#           epochs = 100, \n",
    "#           batch_size = 10, \n",
    "#           verbose = 0,\n",
    "#           validation_split = 0.2);\n",
    "\n",
    "# plot_history(history)"
   ]
  },
  {
   "cell_type": "code",
   "execution_count": 49,
   "id": "cubic-danish",
   "metadata": {},
   "outputs": [],
   "source": [
    "# predictions = (model.predict(test[features].values).flatten() > 0.5).astype(int)\n",
    "\n",
    "# plot_confusion_matrix(y_test, predictions)"
   ]
  },
  {
   "cell_type": "code",
   "execution_count": 50,
   "id": "finished-japan",
   "metadata": {},
   "outputs": [],
   "source": [
    "# deep neural net with dropout\n",
    "\n",
    "# tf.random.set_seed(0)\n",
    "\n",
    "# model = Sequential()\n",
    "# model.add(Dense(9, activation='relu'))\n",
    "# model.add(Dropout(0.3))\n",
    "# model.add(Dense(6, activation='relu'))\n",
    "# model.add(Dropout(0.1))\n",
    "# model.add(Dense(1, activation='sigmoid'))\n",
    "# model.compile(loss = 'binary_crossentropy', \n",
    "#               optimizer = 'adam', \n",
    "#               metrics = ['accuracy'])\n",
    "\n",
    "# X, y = train[features].values, train[target].values\n",
    "# history = model.fit(X, y, \n",
    "#           epochs = 100, \n",
    "#           batch_size = 10, \n",
    "#           verbose = 0,\n",
    "#           validation_split = 0.2);\n",
    "\n",
    "# plot_history(history)"
   ]
  },
  {
   "cell_type": "code",
   "execution_count": 51,
   "id": "honest-discretion",
   "metadata": {},
   "outputs": [],
   "source": [
    "# predictions = (model.predict(test[features].values).flatten() > 0.5).astype(int)\n",
    "\n",
    "# plot_confusion_matrix(y_test, predictions)"
   ]
  },
  {
   "cell_type": "markdown",
   "id": "cardiovascular-fairy",
   "metadata": {},
   "source": [
    "## Final Model"
   ]
  },
  {
   "cell_type": "code",
   "execution_count": 52,
   "id": "single-therapy",
   "metadata": {},
   "outputs": [
    {
     "data": {
      "text/plain": [
       "0.8592057761732852"
      ]
     },
     "execution_count": 52,
     "metadata": {},
     "output_type": "execute_result"
    }
   ],
   "source": [
    "from sklearn.ensemble import GradientBoostingClassifier\n",
    "\n",
    "clf = GradientBoostingClassifier(random_state = 0)\n",
    "\n",
    "clf = clf.fit(x_train, y_train)\n",
    "\n",
    "clf.score(x_test, y_test)"
   ]
  },
  {
   "cell_type": "code",
   "execution_count": 53,
   "id": "afraid-binding",
   "metadata": {},
   "outputs": [
    {
     "data": {
      "text/html": [
       "\n",
       "\n",
       "\n",
       "\n",
       "\n",
       "\n",
       "  <div class=\"bk-root\" id=\"b46fb780-45c3-4776-add8-3ceb70efe7a0\" data-root-id=\"1079\"></div>\n"
      ]
     },
     "metadata": {},
     "output_type": "display_data"
    },
    {
     "data": {
      "application/javascript": [
       "(function(root) {\n",
       "  function embed_document(root) {\n",
       "    \n",
       "  var docs_json = {\"fa04db50-64bb-4a58-95e3-9b63fd4df22a\":{\"roots\":{\"references\":[{\"attributes\":{\"below\":[{\"id\":\"1090\"}],\"center\":[{\"id\":\"1092\"},{\"id\":\"1095\"},{\"id\":\"1105\"}],\"left\":[{\"id\":\"1093\"}],\"plot_height\":300,\"plot_width\":300,\"renderers\":[{\"id\":\"1102\"}],\"title\":{\"id\":\"1080\"},\"toolbar\":{\"id\":\"1097\"},\"x_range\":{\"id\":\"1082\"},\"x_scale\":{\"id\":\"1086\"},\"y_range\":{\"id\":\"1084\"},\"y_scale\":{\"id\":\"1088\"}},\"id\":\"1079\",\"subtype\":\"Figure\",\"type\":\"Plot\"},{\"attributes\":{},\"id\":\"1088\",\"type\":\"CategoricalScale\"},{\"attributes\":{\"data\":{\"Predicted\":[\"0\",\"1\",\"0\",\"1\"],\"True\":[\"0\",\"0\",\"1\",\"1\"],\"index\":[0,1,2,3],\"value\":[1912,73,278,230]},\"selected\":{\"id\":\"1119\"},\"selection_policy\":{\"id\":\"1120\"}},\"id\":\"1077\",\"type\":\"ColumnDataSource\"},{\"attributes\":{},\"id\":\"1116\",\"type\":\"CategoricalTickFormatter\"},{\"attributes\":{\"axis_label\":\"Predicted\",\"axis_line_color\":null,\"formatter\":{\"id\":\"1118\"},\"major_label_orientation\":1.0,\"major_label_standoff\":0,\"major_label_text_font_size\":\"14px\",\"major_tick_line_color\":null,\"ticker\":{\"id\":\"1091\"}},\"id\":\"1090\",\"type\":\"CategoricalAxis\"},{\"attributes\":{\"data_source\":{\"id\":\"1077\"},\"glyph\":{\"id\":\"1100\"},\"hover_glyph\":null,\"muted_glyph\":null,\"nonselection_glyph\":{\"id\":\"1101\"},\"selection_glyph\":null,\"view\":{\"id\":\"1103\"}},\"id\":\"1102\",\"type\":\"GlyphRenderer\"},{\"attributes\":{\"axis\":{\"id\":\"1090\"},\"ticker\":null},\"id\":\"1092\",\"type\":\"Grid\"},{\"attributes\":{},\"id\":\"1118\",\"type\":\"CategoricalTickFormatter\"},{\"attributes\":{\"source\":{\"id\":\"1077\"}},\"id\":\"1103\",\"type\":\"CDSView\"},{\"attributes\":{\"source\":{\"id\":\"1077\"},\"text\":{\"field\":\"value\"},\"text_color\":{\"value\":\"white\"},\"x\":{\"field\":\"Predicted\"},\"x_offset\":{\"value\":50},\"y\":{\"field\":\"True\"},\"y_offset\":{\"value\":50}},\"id\":\"1105\",\"type\":\"LabelSet\"},{\"attributes\":{},\"id\":\"1119\",\"type\":\"Selection\"},{\"attributes\":{},\"id\":\"1120\",\"type\":\"UnionRenderers\"},{\"attributes\":{\"fill_alpha\":{\"value\":0.1},\"fill_color\":{\"field\":\"value\",\"transform\":{\"id\":\"1078\"}},\"height\":{\"units\":\"data\",\"value\":1},\"line_alpha\":{\"value\":0.1},\"line_color\":{\"value\":\"grey\"},\"width\":{\"units\":\"data\",\"value\":1},\"x\":{\"field\":\"Predicted\"},\"y\":{\"field\":\"True\"}},\"id\":\"1101\",\"type\":\"Rect\"},{\"attributes\":{},\"id\":\"1086\",\"type\":\"CategoricalScale\"},{\"attributes\":{\"active_drag\":\"auto\",\"active_inspect\":\"auto\",\"active_multi\":null,\"active_scroll\":\"auto\",\"active_tap\":\"auto\",\"tools\":[{\"id\":\"1096\"}]},\"id\":\"1097\",\"type\":\"Toolbar\"},{\"attributes\":{\"axis\":{\"id\":\"1093\"},\"dimension\":1,\"ticker\":null},\"id\":\"1095\",\"type\":\"Grid\"},{\"attributes\":{\"factors\":[\"0\",\"1\"]},\"id\":\"1082\",\"type\":\"FactorRange\"},{\"attributes\":{\"palette\":[\"#053061\",\"#2166ac\",\"#4393c3\",\"#92c5de\",\"#d1e5f0\",\"#fddbc7\",\"#f4a582\",\"#d6604d\",\"#b2182b\",\"#67001f\"]},\"id\":\"1078\",\"type\":\"LinearColorMapper\"},{\"attributes\":{},\"id\":\"1094\",\"type\":\"CategoricalTicker\"},{\"attributes\":{\"callback\":null,\"tooltips\":[[\"True\",\"@{True}\"],[\"Predicted\",\"@{Predicted}\"],[\"Count\",\"@value\"]]},\"id\":\"1096\",\"type\":\"HoverTool\"},{\"attributes\":{\"axis_label\":\"True\",\"axis_line_color\":null,\"formatter\":{\"id\":\"1116\"},\"major_label_standoff\":0,\"major_label_text_font_size\":\"14px\",\"major_tick_line_color\":null,\"ticker\":{\"id\":\"1094\"}},\"id\":\"1093\",\"type\":\"CategoricalAxis\"},{\"attributes\":{},\"id\":\"1091\",\"type\":\"CategoricalTicker\"},{\"attributes\":{\"fill_color\":{\"field\":\"value\",\"transform\":{\"id\":\"1078\"}},\"height\":{\"units\":\"data\",\"value\":1},\"line_color\":{\"value\":\"grey\"},\"width\":{\"units\":\"data\",\"value\":1},\"x\":{\"field\":\"Predicted\"},\"y\":{\"field\":\"True\"}},\"id\":\"1100\",\"type\":\"Rect\"},{\"attributes\":{\"factors\":[\"0\",\"1\"]},\"id\":\"1084\",\"type\":\"FactorRange\"},{\"attributes\":{\"text\":\"Confusion Matrix: Overall accuracy = 85.92%\"},\"id\":\"1080\",\"type\":\"Title\"}],\"root_ids\":[\"1079\"]},\"title\":\"Bokeh Application\",\"version\":\"2.2.3\"}};\n",
       "  var render_items = [{\"docid\":\"fa04db50-64bb-4a58-95e3-9b63fd4df22a\",\"root_ids\":[\"1079\"],\"roots\":{\"1079\":\"b46fb780-45c3-4776-add8-3ceb70efe7a0\"}}];\n",
       "  root.Bokeh.embed.embed_items_notebook(docs_json, render_items);\n",
       "\n",
       "  }\n",
       "  if (root.Bokeh !== undefined) {\n",
       "    embed_document(root);\n",
       "  } else {\n",
       "    var attempts = 0;\n",
       "    var timer = setInterval(function(root) {\n",
       "      if (root.Bokeh !== undefined) {\n",
       "        clearInterval(timer);\n",
       "        embed_document(root);\n",
       "      } else {\n",
       "        attempts++;\n",
       "        if (attempts > 100) {\n",
       "          clearInterval(timer);\n",
       "          console.log(\"Bokeh: ERROR: Unable to run BokehJS code because BokehJS library is missing\");\n",
       "        }\n",
       "      }\n",
       "    }, 10, root)\n",
       "  }\n",
       "})(window);"
      ],
      "application/vnd.bokehjs_exec.v0+json": ""
     },
     "metadata": {
      "application/vnd.bokehjs_exec.v0+json": {
       "id": "1079"
      }
     },
     "output_type": "display_data"
    }
   ],
   "source": [
    "predictions = clf.predict(x_test)\n",
    "plot_confusion_matrix(y_test, predictions)"
   ]
  },
  {
   "cell_type": "code",
   "execution_count": 87,
   "id": "emotional-reset",
   "metadata": {},
   "outputs": [],
   "source": [
    "import json\n",
    "import pickle"
   ]
  },
  {
   "cell_type": "code",
   "execution_count": 88,
   "id": "perfect-aside",
   "metadata": {},
   "outputs": [],
   "source": [
    "with open('NickRoyModel.pkl', 'wb') as f:\n",
    "    pickle.dump(clf, f)"
   ]
  },
  {
   "cell_type": "code",
   "execution_count": 82,
   "id": "missing-psychiatry",
   "metadata": {},
   "outputs": [],
   "source": [
    "NickRoy = 'https://mytestmlappnjr.azurewebsites.net/NickRoy'"
   ]
  },
  {
   "cell_type": "code",
   "execution_count": 83,
   "id": "motivated-brain",
   "metadata": {},
   "outputs": [],
   "source": [
    "index = 100\n",
    "data_dict = data.loc[index, features].to_dict()"
   ]
  },
  {
   "cell_type": "code",
   "execution_count": 84,
   "id": "connected-cable",
   "metadata": {},
   "outputs": [
    {
     "data": {
      "text/plain": [
       "{'CreditScore': 639.0,\n",
       " 'Age': 22.0,\n",
       " 'Tenure': 4.0,\n",
       " 'Balance': 0.0,\n",
       " 'NumOfProducts': 2.0,\n",
       " 'HasCrCard': 1.0,\n",
       " 'IsActiveMember': 0.0,\n",
       " 'EstimatedSalary': 28188.96,\n",
       " 'France': 1.0,\n",
       " 'Germany': 0.0,\n",
       " 'Spain': 0.0,\n",
       " 'Female': 0.0,\n",
       " 'Male': 1.0}"
      ]
     },
     "execution_count": 84,
     "metadata": {},
     "output_type": "execute_result"
    }
   ],
   "source": [
    "data_dict"
   ]
  },
  {
   "cell_type": "code",
   "execution_count": 85,
   "id": "built-measurement",
   "metadata": {},
   "outputs": [],
   "source": [
    "response = requests.post(NickRoy, json = data_dict)"
   ]
  },
  {
   "cell_type": "code",
   "execution_count": 86,
   "id": "perceived-darkness",
   "metadata": {},
   "outputs": [
    {
     "ename": "JSONDecodeError",
     "evalue": "Expecting value: line 1 column 1 (char 0)",
     "output_type": "error",
     "traceback": [
      "\u001b[1;31m---------------------------------------------------------------------------\u001b[0m",
      "\u001b[1;31mJSONDecodeError\u001b[0m                           Traceback (most recent call last)",
      "\u001b[1;32m<ipython-input-86-34c975fa6377>\u001b[0m in \u001b[0;36m<module>\u001b[1;34m\u001b[0m\n\u001b[1;32m----> 1\u001b[1;33m \u001b[0mresponse\u001b[0m\u001b[1;33m.\u001b[0m\u001b[0mjson\u001b[0m\u001b[1;33m(\u001b[0m\u001b[1;33m)\u001b[0m\u001b[1;33m\u001b[0m\u001b[1;33m\u001b[0m\u001b[0m\n\u001b[0m",
      "\u001b[1;32m~\\Anaconda3\\envs\\ml_env\\lib\\site-packages\\requests\\models.py\u001b[0m in \u001b[0;36mjson\u001b[1;34m(self, **kwargs)\u001b[0m\n\u001b[0;32m    898\u001b[0m                     \u001b[1;31m# used.\u001b[0m\u001b[1;33m\u001b[0m\u001b[1;33m\u001b[0m\u001b[1;33m\u001b[0m\u001b[0m\n\u001b[0;32m    899\u001b[0m                     \u001b[1;32mpass\u001b[0m\u001b[1;33m\u001b[0m\u001b[1;33m\u001b[0m\u001b[0m\n\u001b[1;32m--> 900\u001b[1;33m         \u001b[1;32mreturn\u001b[0m \u001b[0mcomplexjson\u001b[0m\u001b[1;33m.\u001b[0m\u001b[0mloads\u001b[0m\u001b[1;33m(\u001b[0m\u001b[0mself\u001b[0m\u001b[1;33m.\u001b[0m\u001b[0mtext\u001b[0m\u001b[1;33m,\u001b[0m \u001b[1;33m**\u001b[0m\u001b[0mkwargs\u001b[0m\u001b[1;33m)\u001b[0m\u001b[1;33m\u001b[0m\u001b[1;33m\u001b[0m\u001b[0m\n\u001b[0m\u001b[0;32m    901\u001b[0m \u001b[1;33m\u001b[0m\u001b[0m\n\u001b[0;32m    902\u001b[0m     \u001b[1;33m@\u001b[0m\u001b[0mproperty\u001b[0m\u001b[1;33m\u001b[0m\u001b[1;33m\u001b[0m\u001b[0m\n",
      "\u001b[1;32m~\\Anaconda3\\envs\\ml_env\\lib\\json\\__init__.py\u001b[0m in \u001b[0;36mloads\u001b[1;34m(s, cls, object_hook, parse_float, parse_int, parse_constant, object_pairs_hook, **kw)\u001b[0m\n\u001b[0;32m    355\u001b[0m             \u001b[0mparse_int\u001b[0m \u001b[1;32mis\u001b[0m \u001b[1;32mNone\u001b[0m \u001b[1;32mand\u001b[0m \u001b[0mparse_float\u001b[0m \u001b[1;32mis\u001b[0m \u001b[1;32mNone\u001b[0m \u001b[1;32mand\u001b[0m\u001b[1;33m\u001b[0m\u001b[1;33m\u001b[0m\u001b[0m\n\u001b[0;32m    356\u001b[0m             parse_constant is None and object_pairs_hook is None and not kw):\n\u001b[1;32m--> 357\u001b[1;33m         \u001b[1;32mreturn\u001b[0m \u001b[0m_default_decoder\u001b[0m\u001b[1;33m.\u001b[0m\u001b[0mdecode\u001b[0m\u001b[1;33m(\u001b[0m\u001b[0ms\u001b[0m\u001b[1;33m)\u001b[0m\u001b[1;33m\u001b[0m\u001b[1;33m\u001b[0m\u001b[0m\n\u001b[0m\u001b[0;32m    358\u001b[0m     \u001b[1;32mif\u001b[0m \u001b[0mcls\u001b[0m \u001b[1;32mis\u001b[0m \u001b[1;32mNone\u001b[0m\u001b[1;33m:\u001b[0m\u001b[1;33m\u001b[0m\u001b[1;33m\u001b[0m\u001b[0m\n\u001b[0;32m    359\u001b[0m         \u001b[0mcls\u001b[0m \u001b[1;33m=\u001b[0m \u001b[0mJSONDecoder\u001b[0m\u001b[1;33m\u001b[0m\u001b[1;33m\u001b[0m\u001b[0m\n",
      "\u001b[1;32m~\\Anaconda3\\envs\\ml_env\\lib\\json\\decoder.py\u001b[0m in \u001b[0;36mdecode\u001b[1;34m(self, s, _w)\u001b[0m\n\u001b[0;32m    335\u001b[0m \u001b[1;33m\u001b[0m\u001b[0m\n\u001b[0;32m    336\u001b[0m         \"\"\"\n\u001b[1;32m--> 337\u001b[1;33m         \u001b[0mobj\u001b[0m\u001b[1;33m,\u001b[0m \u001b[0mend\u001b[0m \u001b[1;33m=\u001b[0m \u001b[0mself\u001b[0m\u001b[1;33m.\u001b[0m\u001b[0mraw_decode\u001b[0m\u001b[1;33m(\u001b[0m\u001b[0ms\u001b[0m\u001b[1;33m,\u001b[0m \u001b[0midx\u001b[0m\u001b[1;33m=\u001b[0m\u001b[0m_w\u001b[0m\u001b[1;33m(\u001b[0m\u001b[0ms\u001b[0m\u001b[1;33m,\u001b[0m \u001b[1;36m0\u001b[0m\u001b[1;33m)\u001b[0m\u001b[1;33m.\u001b[0m\u001b[0mend\u001b[0m\u001b[1;33m(\u001b[0m\u001b[1;33m)\u001b[0m\u001b[1;33m)\u001b[0m\u001b[1;33m\u001b[0m\u001b[1;33m\u001b[0m\u001b[0m\n\u001b[0m\u001b[0;32m    338\u001b[0m         \u001b[0mend\u001b[0m \u001b[1;33m=\u001b[0m \u001b[0m_w\u001b[0m\u001b[1;33m(\u001b[0m\u001b[0ms\u001b[0m\u001b[1;33m,\u001b[0m \u001b[0mend\u001b[0m\u001b[1;33m)\u001b[0m\u001b[1;33m.\u001b[0m\u001b[0mend\u001b[0m\u001b[1;33m(\u001b[0m\u001b[1;33m)\u001b[0m\u001b[1;33m\u001b[0m\u001b[1;33m\u001b[0m\u001b[0m\n\u001b[0;32m    339\u001b[0m         \u001b[1;32mif\u001b[0m \u001b[0mend\u001b[0m \u001b[1;33m!=\u001b[0m \u001b[0mlen\u001b[0m\u001b[1;33m(\u001b[0m\u001b[0ms\u001b[0m\u001b[1;33m)\u001b[0m\u001b[1;33m:\u001b[0m\u001b[1;33m\u001b[0m\u001b[1;33m\u001b[0m\u001b[0m\n",
      "\u001b[1;32m~\\Anaconda3\\envs\\ml_env\\lib\\json\\decoder.py\u001b[0m in \u001b[0;36mraw_decode\u001b[1;34m(self, s, idx)\u001b[0m\n\u001b[0;32m    353\u001b[0m             \u001b[0mobj\u001b[0m\u001b[1;33m,\u001b[0m \u001b[0mend\u001b[0m \u001b[1;33m=\u001b[0m \u001b[0mself\u001b[0m\u001b[1;33m.\u001b[0m\u001b[0mscan_once\u001b[0m\u001b[1;33m(\u001b[0m\u001b[0ms\u001b[0m\u001b[1;33m,\u001b[0m \u001b[0midx\u001b[0m\u001b[1;33m)\u001b[0m\u001b[1;33m\u001b[0m\u001b[1;33m\u001b[0m\u001b[0m\n\u001b[0;32m    354\u001b[0m         \u001b[1;32mexcept\u001b[0m \u001b[0mStopIteration\u001b[0m \u001b[1;32mas\u001b[0m \u001b[0merr\u001b[0m\u001b[1;33m:\u001b[0m\u001b[1;33m\u001b[0m\u001b[1;33m\u001b[0m\u001b[0m\n\u001b[1;32m--> 355\u001b[1;33m             \u001b[1;32mraise\u001b[0m \u001b[0mJSONDecodeError\u001b[0m\u001b[1;33m(\u001b[0m\u001b[1;34m\"Expecting value\"\u001b[0m\u001b[1;33m,\u001b[0m \u001b[0ms\u001b[0m\u001b[1;33m,\u001b[0m \u001b[0merr\u001b[0m\u001b[1;33m.\u001b[0m\u001b[0mvalue\u001b[0m\u001b[1;33m)\u001b[0m \u001b[1;32mfrom\u001b[0m \u001b[1;32mNone\u001b[0m\u001b[1;33m\u001b[0m\u001b[1;33m\u001b[0m\u001b[0m\n\u001b[0m\u001b[0;32m    356\u001b[0m         \u001b[1;32mreturn\u001b[0m \u001b[0mobj\u001b[0m\u001b[1;33m,\u001b[0m \u001b[0mend\u001b[0m\u001b[1;33m\u001b[0m\u001b[1;33m\u001b[0m\u001b[0m\n",
      "\u001b[1;31mJSONDecodeError\u001b[0m: Expecting value: line 1 column 1 (char 0)"
     ]
    }
   ],
   "source": [
    "response.json()"
   ]
  },
  {
   "cell_type": "code",
   "execution_count": 70,
   "id": "ultimate-retailer",
   "metadata": {},
   "outputs": [],
   "source": [
    "with open('scaler_means.json') as fin:\n",
    "    temp = json.load(fin)"
   ]
  },
  {
   "cell_type": "code",
   "execution_count": 71,
   "id": "mounted-mistake",
   "metadata": {},
   "outputs": [
    {
     "data": {
      "text/plain": [
       "{'CreditScore': 639.0,\n",
       " 'Age': 22.0,\n",
       " 'Tenure': 4.0,\n",
       " 'Balance': 0.0,\n",
       " 'NumOfProducts': 2.0,\n",
       " 'HasCrCard': 1.0,\n",
       " 'IsActiveMember': 0.0,\n",
       " 'EstimatedSalary': 28188.96,\n",
       " 'France': 1.0,\n",
       " 'Germany': 0.0,\n",
       " 'Spain': 0.0,\n",
       " 'Female': 0.0,\n",
       " 'Male': 1.0}"
      ]
     },
     "execution_count": 71,
     "metadata": {},
     "output_type": "execute_result"
    }
   ],
   "source": [
    "temp"
   ]
  },
  {
   "cell_type": "code",
   "execution_count": null,
   "id": "steady-express",
   "metadata": {},
   "outputs": [],
   "source": []
  }
 ],
 "metadata": {
  "kernelspec": {
   "display_name": "Python 3",
   "language": "python",
   "name": "python3"
  },
  "language_info": {
   "codemirror_mode": {
    "name": "ipython",
    "version": 3
   },
   "file_extension": ".py",
   "mimetype": "text/x-python",
   "name": "python",
   "nbconvert_exporter": "python",
   "pygments_lexer": "ipython3",
   "version": "3.8.5"
  }
 },
 "nbformat": 4,
 "nbformat_minor": 5
}
